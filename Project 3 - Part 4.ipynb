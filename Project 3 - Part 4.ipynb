{
 "cells": [
  {
   "cell_type": "markdown",
   "id": "7d877db4",
   "metadata": {},
   "source": [
    "# Project 3 - Part 4 Tests\n",
    "Author: Paul Foy"
   ]
  },
  {
   "cell_type": "markdown",
   "id": "8470dd8b",
   "metadata": {},
   "source": [
    "# Imports and Load Data"
   ]
  },
  {
   "cell_type": "code",
   "execution_count": 1,
   "id": "a62f4e6f",
   "metadata": {},
   "outputs": [],
   "source": [
    "# Required Imports\n",
    "import json\n",
    "import pandas as pd\n",
    "import numpy as np\n",
    "import seaborn as sns\n",
    "from scipy import stats\n",
    "\n",
    "import os, time,json\n",
    "from tqdm.notebook import tqdm_notebook\n",
    "import tmdbsimple as tmdb \n",
    "import glob\n",
    "\n",
    "\n",
    "import pymysql\n",
    "pymysql.install_as_MySQLdb()\n",
    "\n",
    "from urllib.parse import quote_plus as urlquote\n",
    "\n",
    "# from sqlalchemy import create_engine\n",
    "# from sqlalchemy_utils import create_database, database_exists"
   ]
  },
  {
   "cell_type": "markdown",
   "id": "3481ddfd",
   "metadata": {},
   "source": [
    "# Load Data"
   ]
  },
  {
   "cell_type": "code",
   "execution_count": 2,
   "id": "81b9f91e",
   "metadata": {},
   "outputs": [
    {
     "data": {
      "text/plain": [
       "['2010sfinal_tmdb_data_2010.csv.gz',\n",
       " '2010sfinal_tmdb_data_2011.csv.gz',\n",
       " '2010sfinal_tmdb_data_2012.csv.gz']"
      ]
     },
     "execution_count": 2,
     "metadata": {},
     "output_type": "execute_result"
    }
   ],
   "source": [
    "#Check data that exists in Data folder\n",
    "FOLDER = 'Data/2010s/'\n",
    "file_list = sorted(os.listdir(FOLDER))\n",
    "file_list"
   ]
  },
  {
   "cell_type": "code",
   "execution_count": null,
   "id": "42136cd4",
   "metadata": {},
   "outputs": [],
   "source": [
    "#Use glob to find final_tmdb_data csv files\n",
    "q = FOLDER+\"final_*csv.gz\"\n",
    "print(q)\n",
    "file_list = sorted(glob.glob(q))\n",
    "file_list"
   ]
  },
  {
   "cell_type": "code",
   "execution_count": null,
   "id": "0ef8ae26",
   "metadata": {},
   "outputs": [],
   "source": [
    "#Use list comprehension to load all files into 1 data frame\n",
    "df = pd.concat([pd.read_csv(f, lineterminator = '\\n') for f in file_list])\n",
    "df.head()"
   ]
  },
  {
   "cell_type": "code",
   "execution_count": null,
   "id": "6ef5549c",
   "metadata": {},
   "outputs": [],
   "source": [
    "#Remove zero id\n",
    "df = df.loc[df['imdb_id'] != '0']\n",
    "df.head()"
   ]
  },
  {
   "cell_type": "code",
   "execution_count": null,
   "id": "f2af45ae",
   "metadata": {},
   "outputs": [],
   "source": [
    "# Remove first column\n",
    "df.drop(['Unnamed: 0'], axis=1)"
   ]
  },
  {
   "cell_type": "code",
   "execution_count": null,
   "id": "fb20cd2c",
   "metadata": {},
   "outputs": [],
   "source": [
    "#Save data to disk \n",
    "df.to_csv(FOLDER+'combined_tmdb_data.csv.gz', compression = 'gzip', index = False)"
   ]
  },
  {
   "cell_type": "markdown",
   "id": "c4fe33fd",
   "metadata": {},
   "source": [
    "# Load and Inspect Data"
   ]
  },
  {
   "cell_type": "code",
   "execution_count": null,
   "id": "e033da91",
   "metadata": {},
   "outputs": [],
   "source": [
    "# Load new dataset and verify\n",
    "df1 = pd.read_csv(FOLDER+'combined_tmdb_data.csv.gz',lineterminator='\\n')\n",
    "df1.head()"
   ]
  },
  {
   "cell_type": "code",
   "execution_count": null,
   "id": "da1a33df",
   "metadata": {},
   "outputs": [],
   "source": [
    "df1.info()"
   ]
  },
  {
   "cell_type": "code",
   "execution_count": null,
   "id": "3288ec97",
   "metadata": {},
   "outputs": [],
   "source": [
    "#Drop unneedeed columns for testing\n",
    "drop_cols = ['adult', 'backdrop_path', 'belongs_to_collection', 'homepage', \n",
    "             'original_title', 'overview', 'poster_path', 'status', 'tagline', \n",
    "             'video', 'budget', 'genres', 'id', 'original_language', \n",
    "             'popularity', 'production_companies', 'production_countries', \n",
    "             'spoken_languages', 'title',]\n",
    "df1 = df1.drop(columns = drop_cols)\n",
    "df1.info()"
   ]
  },
  {
   "cell_type": "code",
   "execution_count": null,
   "id": "4ed2c82a",
   "metadata": {},
   "outputs": [],
   "source": [
    "#Preview certification column\n",
    "df['certification'].value_counts(dropna = False)"
   ]
  },
  {
   "cell_type": "code",
   "execution_count": null,
   "id": "2b0b0a9a",
   "metadata": {},
   "outputs": [],
   "source": [
    "#Clean up extra ratings\n",
    "cert_dict = {'Unrated': 'NR',\n",
    "            'UR': 'NR',\n",
    "            'Not Rated': 'NR',\n",
    "            'ScreamFest Horror Film Festival': 'NR'}\n",
    "\n",
    "#Replace values\n",
    "df['certification'] = df['certification'].replace(cert_dict)\n",
    "df['certification'].value_counts(dropna = False)"
   ]
  },
  {
   "cell_type": "code",
   "execution_count": null,
   "id": "35ef4710",
   "metadata": {},
   "outputs": [],
   "source": [
    "#Drop null values\n",
    "df = df.dropna(subset = 'certification')\n",
    "df['certification'].value_counts()"
   ]
  },
  {
   "cell_type": "markdown",
   "id": "b80a3188",
   "metadata": {},
   "source": [
    "# Hypothesis Testing"
   ]
  },
  {
   "cell_type": "markdown",
   "id": "a7cdf2e3",
   "metadata": {},
   "source": [
    "## Hypothesis 1\n",
    "\n",
    "**Business Question**: \n",
    "- Does the MPAA rating of a movie (G/PG/PG-13/R) affect how much revenue the movie generates?\n",
    "\n",
    "**State Hypothesese**: \n",
    "- H<sub>0</sub>: There is no difference between revenue generated for different ratings.\n",
    "- H<sub>a</sub>: There is a significant difference between revenue generated for different ratings.\n",
    "\n",
    "**Alpha** \n",
    "- 0.05\n",
    "\n",
    "**Test type**:\n",
    "- Because we are comparing a numeric value (revenue) across multiple groups (ratings), I will use an ANOVA test."
   ]
  },
  {
   "cell_type": "markdown",
   "id": "0db3f55a",
   "metadata": {},
   "source": [
    "**Test Assumptions**: \n",
    "- No significant outliers.\n",
    "- Normality.\n",
    "- Equal Variance."
   ]
  },
  {
   "cell_type": "code",
   "execution_count": null,
   "id": "3c20d3c8",
   "metadata": {},
   "outputs": [],
   "source": [
    "##Create groups dictionary\n",
    "groups = {}\n",
    "#Loop through all unique categories\n",
    "for i in df['certification'].unique():\n",
    "    ## Get series for group and rename\n",
    "    data = df.loc[df['certification']==i,'revenue'].copy()\n",
    "    \n",
    "    # save into the dictionary\n",
    "    groups[i] = data\n",
    "groups.keys()"
   ]
  },
  {
   "cell_type": "code",
   "execution_count": null,
   "id": "947a30cb",
   "metadata": {},
   "outputs": [],
   "source": [
    "#Running normal test on each group and confirming there are >20 in each group\n",
    "norm_results = {}\n",
    "for i, data in groups.items():\n",
    "    stat, p = stats.normaltest(data)\n",
    "    ## save the p val, test statistic, and the size of the group\n",
    "    norm_results[i] = {'n': len(data),\n",
    "                             'p':p,\n",
    "                             'test stat':stat,}\n",
    "## convert to a dataframe\n",
    "norm_results_df = pd.DataFrame(norm_results).T\n",
    "\n",
    "#Checking sig with pandas \n",
    "norm_results_df['sig'] = norm_results_df['p'] < .05 \n",
    "norm_results_df"
   ]
  },
  {
   "cell_type": "markdown",
   "id": "28ea5732",
   "metadata": {},
   "source": [
    "Note: There are more than 15 samples in each group, so we can continue."
   ]
  },
  {
   "cell_type": "code",
   "execution_count": null,
   "id": "c3411226",
   "metadata": {},
   "outputs": [],
   "source": [
    "#Test for equal variance\n",
    "stats.levene(*groups.values())"
   ]
  },
  {
   "cell_type": "markdown",
   "id": "decea18f",
   "metadata": {},
   "source": [
    "### Run Test"
   ]
  },
  {
   "cell_type": "code",
   "execution_count": null,
   "id": "dc196987",
   "metadata": {},
   "outputs": [],
   "source": [
    "#Execute Kruskal=Wallis test\n",
    "result = stats.kruskal(*groups)\n",
    "print(result)\n",
    "print(result.pvalue < .05)"
   ]
  },
  {
   "cell_type": "markdown",
   "id": "4031bd47",
   "metadata": {},
   "source": [
    "### Results\n",
    "- Our p-value is ***greater than*** our alpha of 0.05, therefore we fail to reject the null hypothesis. In our data, there is not a significant difference in average revenue generated per rating category.\n"
   ]
  },
  {
   "cell_type": "markdown",
   "id": "7fabc053",
   "metadata": {},
   "source": [
    "### Supporting Visualization"
   ]
  },
  {
   "cell_type": "code",
   "execution_count": null,
   "id": "6633ed92",
   "metadata": {},
   "outputs": [],
   "source": [
    "#Create barplot of revenue vs. rating\n",
    "ax = sns.barplot(data = df, x= 'certification', y= 'revenue')\n",
    "ax.set_title('Average Revenue per Rating');"
   ]
  },
  {
   "cell_type": "markdown",
   "id": "3a3d9e87",
   "metadata": {},
   "source": [
    "## Hypothesis Test 2: \n",
    "- Do movies that are over 2.5 hours long earn more revenue than movies that are 1.5 hours long (or less)?\n",
    "\n",
    "**State Hypothesese**: \n",
    "- H<sub>0</sub>: There is no difference between groups of movies.\n",
    "- H<sub>a</sub>: There is a significant difference between groups of movies.\n",
    "\n",
    "**Alpha** \n",
    "- 0.05\n",
    "\n",
    "**Test type**:\n",
    "- We are comparing a numeric outcome (revenue) to another numeric variable (runtime), so I will use a 2-sample t-test.\n",
    "\n"
   ]
  },
  {
   "cell_type": "markdown",
   "id": "94483347",
   "metadata": {},
   "source": [
    "### Data Preprocessing"
   ]
  },
  {
   "cell_type": "code",
   "execution_count": null,
   "id": "fa3c57f4",
   "metadata": {},
   "outputs": [],
   "source": [
    "# Add new columsn for short and long movies\n",
    "df['is_long'] = df['runtime'] > 150\n",
    "df['is_short'] = df['runtime'] <= 90\n",
    "df.head()"
   ]
  },
  {
   "cell_type": "code",
   "execution_count": null,
   "id": "5c024cb2",
   "metadata": {},
   "outputs": [],
   "source": [
    "# Create groups to test for long (>150 min) and short (<150 min)\n",
    "long = df.loc[df['is_long'] == True, ['revenue', 'is_long']]\n",
    "short = df.loc[df['is_short'] == True, ['revenue', 'is_short']]\n",
    "print(f'There are {len(long)} movies over 2.5 hours.')\n",
    "print(f'There are {len(short)} movies under 1.5 hours.')"
   ]
  },
  {
   "cell_type": "code",
   "execution_count": null,
   "id": "eb68c207",
   "metadata": {},
   "outputs": [],
   "source": [
    "#Create new datasets\n",
    "long_group = long['revenue']\n",
    "short_group = short['revenue']\n",
    "display(long_group.head(), short_group.head())"
   ]
  },
  {
   "cell_type": "markdown",
   "id": "23fd2518",
   "metadata": {},
   "source": [
    "## Test Assumptions\n",
    "\n",
    "- No significant outliers\n",
    "- Normality\n",
    "- Equal variance"
   ]
  },
  {
   "cell_type": "code",
   "execution_count": null,
   "id": "d3d70401",
   "metadata": {},
   "outputs": [],
   "source": [
    "# Check for sig. outliers in long group\n",
    "zscores_long = stats.zscore(long_group)\n",
    "outliers_long = abs(zscores_long)>3\n",
    "np.sum(outliers_long)"
   ]
  },
  {
   "cell_type": "code",
   "execution_count": null,
   "id": "7f04f903",
   "metadata": {},
   "outputs": [],
   "source": [
    "# Remove outliers\n",
    "long_group = long_group[(np.abs(stats.zscore(long_group)) < 3)]"
   ]
  },
  {
   "cell_type": "code",
   "execution_count": null,
   "id": "d35102c0",
   "metadata": {},
   "outputs": [],
   "source": [
    "#Check for sig. outliers in short group\n",
    "zscores_short = stats.zscore(short_group)\n",
    "outliers_short = abs(zscores_short)>3\n",
    "np.sum(outliers_short)"
   ]
  },
  {
   "cell_type": "code",
   "execution_count": null,
   "id": "b47c41f3",
   "metadata": {},
   "outputs": [],
   "source": [
    "#Remove outliers\n",
    "short_group = short_group[(np.abs(stats.zscore(short_group)) < 3)]"
   ]
  },
  {
   "cell_type": "code",
   "execution_count": null,
   "id": "7f0793f5",
   "metadata": {},
   "outputs": [],
   "source": [
    "#Normal Test for long group\n",
    "result_long = stats.normaltest(long_group)\n",
    "result_long"
   ]
  },
  {
   "cell_type": "code",
   "execution_count": null,
   "id": "ab787c4f",
   "metadata": {},
   "outputs": [],
   "source": [
    "#Normal Test of short group\n",
    "result_short = stats.normaltest(short_group)\n",
    "result_short"
   ]
  },
  {
   "cell_type": "code",
   "execution_count": null,
   "id": "df966be4",
   "metadata": {},
   "outputs": [],
   "source": [
    "#Test for equal variance\n",
    "result = stats.levene(long_group, short_group)\n",
    "result"
   ]
  },
  {
   "cell_type": "markdown",
   "id": "333bb73d",
   "metadata": {},
   "source": [
    "Note: \n",
    "- Failed equal variance test. \n",
    "- As a result, we'll need to use a Welch's T-test with the equal_var = False parameter"
   ]
  },
  {
   "cell_type": "markdown",
   "id": "471fab32",
   "metadata": {},
   "source": [
    "### Run test"
   ]
  },
  {
   "cell_type": "code",
   "execution_count": null,
   "id": "b70810d7",
   "metadata": {},
   "outputs": [],
   "source": [
    "result = stats.ttest_ind(long_group, short_group, equal_var = False)\n",
    "result"
   ]
  },
  {
   "cell_type": "markdown",
   "id": "c24943ab",
   "metadata": {},
   "source": [
    "The p-value from the t-test is less than 0.05. We can reject the null hypothesis. There is a significant difference between the revenue generated by short movies vs. long movies."
   ]
  },
  {
   "cell_type": "markdown",
   "id": "1079117e",
   "metadata": {},
   "source": [
    "### Visualization"
   ]
  },
  {
   "cell_type": "code",
   "execution_count": null,
   "id": "9473f792",
   "metadata": {},
   "outputs": [],
   "source": [
    "#Create barplot \n",
    "ax = sns.barplot(data = df, x= 'is_long', y= 'revenue')\n",
    "ax.set_title('Average Revenue per Rating');"
   ]
  }
 ],
 "metadata": {
  "kernelspec": {
   "display_name": "dojo-env",
   "language": "python",
   "name": "python3"
  },
  "language_info": {
   "codemirror_mode": {
    "name": "ipython",
    "version": 3
   },
   "file_extension": ".py",
   "mimetype": "text/x-python",
   "name": "python",
   "nbconvert_exporter": "python",
   "pygments_lexer": "ipython3",
   "version": "3.9.15"
  },
  "toc": {
   "base_numbering": 1,
   "nav_menu": {},
   "number_sections": false,
   "sideBar": true,
   "skip_h1_title": false,
   "title_cell": "Table of Contents",
   "title_sidebar": "Contents",
   "toc_cell": false,
   "toc_position": {},
   "toc_section_display": true,
   "toc_window_display": false
  }
 },
 "nbformat": 4,
 "nbformat_minor": 5
}
