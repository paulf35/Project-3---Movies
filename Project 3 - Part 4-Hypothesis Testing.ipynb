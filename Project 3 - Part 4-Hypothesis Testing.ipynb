{
 "cells": [
  {
   "cell_type": "markdown",
   "id": "7d877db4",
   "metadata": {},
   "source": [
    "# Project 3 - Part 4 - Hypothesis Testing\n",
    "Author: Paul Foy"
   ]
  },
  {
   "cell_type": "markdown",
   "id": "8470dd8b",
   "metadata": {},
   "source": [
    "# Imports and Load Data"
   ]
  },
  {
   "cell_type": "code",
   "execution_count": 1,
   "id": "a62f4e6f",
   "metadata": {},
   "outputs": [],
   "source": [
    "# Required Imports\n",
    "import json\n",
    "import pandas as pd\n",
    "import numpy as np\n",
    "import seaborn as sns\n",
    "from scipy import stats\n",
    "\n",
    "import os, time,json\n",
    "from tqdm.notebook import tqdm_notebook\n",
    "import tmdbsimple as tmdb \n",
    "import glob\n",
    "\n",
    "\n",
    "import pymysql\n",
    "pymysql.install_as_MySQLdb()\n",
    "\n",
    "from urllib.parse import quote_plus as urlquote\n",
    "\n",
    "# from sqlalchemy import create_engine\n",
    "# from sqlalchemy_utils import create_database, database_exists"
   ]
  },
  {
   "cell_type": "markdown",
   "id": "3481ddfd",
   "metadata": {},
   "source": [
    "# Load Data"
   ]
  },
  {
   "cell_type": "code",
   "execution_count": 2,
   "id": "81b9f91e",
   "metadata": {},
   "outputs": [
    {
     "data": {
      "text/plain": [
       "['2010sfinal_tmdb_data_2010.csv.gz',\n",
       " '2010sfinal_tmdb_data_2011.csv.gz',\n",
       " '2010sfinal_tmdb_data_2012.csv.gz',\n",
       " 'combined_tmdb_data.csv.gz']"
      ]
     },
     "execution_count": 2,
     "metadata": {},
     "output_type": "execute_result"
    }
   ],
   "source": [
    "#Check data that exists in Data folder\n",
    "FOLDER = 'Data/2010s/'\n",
    "file_list = sorted(os.listdir(FOLDER))\n",
    "file_list"
   ]
  },
  {
   "cell_type": "code",
   "execution_count": 3,
   "id": "42136cd4",
   "metadata": {},
   "outputs": [
    {
     "name": "stdout",
     "output_type": "stream",
     "text": [
      "Data/2010s/2010sfinal_*csv.gz\n"
     ]
    },
    {
     "data": {
      "text/plain": [
       "['Data/2010s\\\\2010sfinal_tmdb_data_2010.csv.gz',\n",
       " 'Data/2010s\\\\2010sfinal_tmdb_data_2011.csv.gz',\n",
       " 'Data/2010s\\\\2010sfinal_tmdb_data_2012.csv.gz']"
      ]
     },
     "execution_count": 3,
     "metadata": {},
     "output_type": "execute_result"
    }
   ],
   "source": [
    "#Use glob to find final_tmdb_data csv files\n",
    "q = FOLDER+\"2010sfinal_*csv.gz\"\n",
    "print(q)\n",
    "file_list = sorted(glob.glob(q))\n",
    "file_list"
   ]
  },
  {
   "cell_type": "code",
   "execution_count": 4,
   "id": "0ef8ae26",
   "metadata": {},
   "outputs": [
    {
     "data": {
      "text/html": [
       "<div>\n",
       "<style scoped>\n",
       "    .dataframe tbody tr th:only-of-type {\n",
       "        vertical-align: middle;\n",
       "    }\n",
       "\n",
       "    .dataframe tbody tr th {\n",
       "        vertical-align: top;\n",
       "    }\n",
       "\n",
       "    .dataframe thead th {\n",
       "        text-align: right;\n",
       "    }\n",
       "</style>\n",
       "<table border=\"1\" class=\"dataframe\">\n",
       "  <thead>\n",
       "    <tr style=\"text-align: right;\">\n",
       "      <th></th>\n",
       "      <th>imdb_id</th>\n",
       "      <th>adult</th>\n",
       "      <th>backdrop_path</th>\n",
       "      <th>belongs_to_collection</th>\n",
       "      <th>budget</th>\n",
       "      <th>genres</th>\n",
       "      <th>homepage</th>\n",
       "      <th>id</th>\n",
       "      <th>original_language</th>\n",
       "      <th>original_title</th>\n",
       "      <th>...</th>\n",
       "      <th>revenue</th>\n",
       "      <th>runtime</th>\n",
       "      <th>spoken_languages</th>\n",
       "      <th>status</th>\n",
       "      <th>tagline</th>\n",
       "      <th>title</th>\n",
       "      <th>video</th>\n",
       "      <th>vote_average</th>\n",
       "      <th>vote_count</th>\n",
       "      <th>certification</th>\n",
       "    </tr>\n",
       "  </thead>\n",
       "  <tbody>\n",
       "    <tr>\n",
       "      <th>0</th>\n",
       "      <td>\\n0</td>\n",
       "      <td>NaN</td>\n",
       "      <td>NaN</td>\n",
       "      <td>NaN</td>\n",
       "      <td>NaN</td>\n",
       "      <td>NaN</td>\n",
       "      <td>NaN</td>\n",
       "      <td>NaN</td>\n",
       "      <td>NaN</td>\n",
       "      <td>NaN</td>\n",
       "      <td>...</td>\n",
       "      <td>NaN</td>\n",
       "      <td>NaN</td>\n",
       "      <td>NaN</td>\n",
       "      <td>NaN</td>\n",
       "      <td>NaN</td>\n",
       "      <td>NaN</td>\n",
       "      <td>NaN</td>\n",
       "      <td>NaN</td>\n",
       "      <td>NaN</td>\n",
       "      <td>NaN</td>\n",
       "    </tr>\n",
       "    <tr>\n",
       "      <th>1</th>\n",
       "      <td>\\ntt0260305</td>\n",
       "      <td>0.0</td>\n",
       "      <td>/lTN9dbQNJjSIEROc74iUOnblhIn.jpg</td>\n",
       "      <td>NaN</td>\n",
       "      <td>0.0</td>\n",
       "      <td>[{'id': 18, 'name': 'Drama'}, {'id': 35, 'name...</td>\n",
       "      <td>NaN</td>\n",
       "      <td>101708.0</td>\n",
       "      <td>en</td>\n",
       "      <td>Putting It Together</td>\n",
       "      <td>...</td>\n",
       "      <td>0.0</td>\n",
       "      <td>105.0</td>\n",
       "      <td>[{'english_name': 'English', 'iso_639_1': 'en'...</td>\n",
       "      <td>Released</td>\n",
       "      <td>A musical review</td>\n",
       "      <td>Putting It Together</td>\n",
       "      <td>0.0</td>\n",
       "      <td>5.800</td>\n",
       "      <td>6.0</td>\n",
       "      <td>NR</td>\n",
       "    </tr>\n",
       "    <tr>\n",
       "      <th>2</th>\n",
       "      <td>\\ntt0312305</td>\n",
       "      <td>0.0</td>\n",
       "      <td>/lqUbt2cy2pnqvxKefbQAtxLS0WA.jpg</td>\n",
       "      <td>NaN</td>\n",
       "      <td>0.0</td>\n",
       "      <td>[{'id': 10751, 'name': 'Family'}, {'id': 16, '...</td>\n",
       "      <td>http://www.qqthemovie.com/</td>\n",
       "      <td>23738.0</td>\n",
       "      <td>en</td>\n",
       "      <td>Quantum Quest: A Cassini Space Odyssey</td>\n",
       "      <td>...</td>\n",
       "      <td>0.0</td>\n",
       "      <td>45.0</td>\n",
       "      <td>[{'english_name': 'English', 'iso_639_1': 'en'...</td>\n",
       "      <td>Released</td>\n",
       "      <td>NaN</td>\n",
       "      <td>Quantum Quest: A Cassini Space Odyssey</td>\n",
       "      <td>0.0</td>\n",
       "      <td>7.900</td>\n",
       "      <td>8.0</td>\n",
       "      <td>NaN</td>\n",
       "    </tr>\n",
       "    <tr>\n",
       "      <th>3</th>\n",
       "      <td>\\ntt0326965</td>\n",
       "      <td>0.0</td>\n",
       "      <td>/xt2klJdKCVGXcoBGQrGfAS0aGDE.jpg</td>\n",
       "      <td>NaN</td>\n",
       "      <td>0.0</td>\n",
       "      <td>[{'id': 53, 'name': 'Thriller'}, {'id': 9648, ...</td>\n",
       "      <td>http://www.inmysleep.com</td>\n",
       "      <td>40048.0</td>\n",
       "      <td>en</td>\n",
       "      <td>In My Sleep</td>\n",
       "      <td>...</td>\n",
       "      <td>0.0</td>\n",
       "      <td>90.0</td>\n",
       "      <td>[{'english_name': 'English', 'iso_639_1': 'en'...</td>\n",
       "      <td>Released</td>\n",
       "      <td>Sleepwalking can be deadly.</td>\n",
       "      <td>In My Sleep</td>\n",
       "      <td>0.0</td>\n",
       "      <td>5.318</td>\n",
       "      <td>33.0</td>\n",
       "      <td>PG-13</td>\n",
       "    </tr>\n",
       "    <tr>\n",
       "      <th>4</th>\n",
       "      <td>\\ntt0331312</td>\n",
       "      <td>0.0</td>\n",
       "      <td>NaN</td>\n",
       "      <td>NaN</td>\n",
       "      <td>0.0</td>\n",
       "      <td>[]</td>\n",
       "      <td>NaN</td>\n",
       "      <td>214026.0</td>\n",
       "      <td>en</td>\n",
       "      <td>This Wretched Life</td>\n",
       "      <td>...</td>\n",
       "      <td>0.0</td>\n",
       "      <td>0.0</td>\n",
       "      <td>[]</td>\n",
       "      <td>Released</td>\n",
       "      <td>NaN</td>\n",
       "      <td>This Wretched Life</td>\n",
       "      <td>0.0</td>\n",
       "      <td>5.000</td>\n",
       "      <td>1.0</td>\n",
       "      <td>NaN</td>\n",
       "    </tr>\n",
       "  </tbody>\n",
       "</table>\n",
       "<p>5 rows × 26 columns</p>\n",
       "</div>"
      ],
      "text/plain": [
       "       imdb_id  adult                     backdrop_path belongs_to_collection  \\\n",
       "0          \\n0    NaN                               NaN                   NaN   \n",
       "1  \\ntt0260305    0.0  /lTN9dbQNJjSIEROc74iUOnblhIn.jpg                   NaN   \n",
       "2  \\ntt0312305    0.0  /lqUbt2cy2pnqvxKefbQAtxLS0WA.jpg                   NaN   \n",
       "3  \\ntt0326965    0.0  /xt2klJdKCVGXcoBGQrGfAS0aGDE.jpg                   NaN   \n",
       "4  \\ntt0331312    0.0                               NaN                   NaN   \n",
       "\n",
       "   budget                                             genres  \\\n",
       "0     NaN                                                NaN   \n",
       "1     0.0  [{'id': 18, 'name': 'Drama'}, {'id': 35, 'name...   \n",
       "2     0.0  [{'id': 10751, 'name': 'Family'}, {'id': 16, '...   \n",
       "3     0.0  [{'id': 53, 'name': 'Thriller'}, {'id': 9648, ...   \n",
       "4     0.0                                                 []   \n",
       "\n",
       "                     homepage        id original_language  \\\n",
       "0                         NaN       NaN               NaN   \n",
       "1                         NaN  101708.0                en   \n",
       "2  http://www.qqthemovie.com/   23738.0                en   \n",
       "3    http://www.inmysleep.com   40048.0                en   \n",
       "4                         NaN  214026.0                en   \n",
       "\n",
       "                           original_title  ... revenue  runtime  \\\n",
       "0                                     NaN  ...     NaN      NaN   \n",
       "1                     Putting It Together  ...     0.0    105.0   \n",
       "2  Quantum Quest: A Cassini Space Odyssey  ...     0.0     45.0   \n",
       "3                             In My Sleep  ...     0.0     90.0   \n",
       "4                      This Wretched Life  ...     0.0      0.0   \n",
       "\n",
       "                                    spoken_languages    status  \\\n",
       "0                                                NaN       NaN   \n",
       "1  [{'english_name': 'English', 'iso_639_1': 'en'...  Released   \n",
       "2  [{'english_name': 'English', 'iso_639_1': 'en'...  Released   \n",
       "3  [{'english_name': 'English', 'iso_639_1': 'en'...  Released   \n",
       "4                                                 []  Released   \n",
       "\n",
       "                       tagline                                   title  video  \\\n",
       "0                          NaN                                     NaN    NaN   \n",
       "1             A musical review                     Putting It Together    0.0   \n",
       "2                          NaN  Quantum Quest: A Cassini Space Odyssey    0.0   \n",
       "3  Sleepwalking can be deadly.                             In My Sleep    0.0   \n",
       "4                          NaN                      This Wretched Life    0.0   \n",
       "\n",
       "   vote_average vote_count certification  \n",
       "0           NaN        NaN           NaN  \n",
       "1         5.800        6.0            NR  \n",
       "2         7.900        8.0           NaN  \n",
       "3         5.318       33.0         PG-13  \n",
       "4         5.000        1.0           NaN  \n",
       "\n",
       "[5 rows x 26 columns]"
      ]
     },
     "execution_count": 4,
     "metadata": {},
     "output_type": "execute_result"
    }
   ],
   "source": [
    "#Use list comprehension to load all files into 1 data frame\n",
    "df = pd.concat([pd.read_csv(f, lineterminator = '\\r') for f in file_list])\n",
    "df.head()"
   ]
  },
  {
   "cell_type": "code",
   "execution_count": 5,
   "id": "6ef5549c",
   "metadata": {},
   "outputs": [
    {
     "data": {
      "text/html": [
       "<div>\n",
       "<style scoped>\n",
       "    .dataframe tbody tr th:only-of-type {\n",
       "        vertical-align: middle;\n",
       "    }\n",
       "\n",
       "    .dataframe tbody tr th {\n",
       "        vertical-align: top;\n",
       "    }\n",
       "\n",
       "    .dataframe thead th {\n",
       "        text-align: right;\n",
       "    }\n",
       "</style>\n",
       "<table border=\"1\" class=\"dataframe\">\n",
       "  <thead>\n",
       "    <tr style=\"text-align: right;\">\n",
       "      <th></th>\n",
       "      <th>imdb_id</th>\n",
       "      <th>adult</th>\n",
       "      <th>backdrop_path</th>\n",
       "      <th>belongs_to_collection</th>\n",
       "      <th>budget</th>\n",
       "      <th>genres</th>\n",
       "      <th>homepage</th>\n",
       "      <th>id</th>\n",
       "      <th>original_language</th>\n",
       "      <th>original_title</th>\n",
       "      <th>...</th>\n",
       "      <th>revenue</th>\n",
       "      <th>runtime</th>\n",
       "      <th>spoken_languages</th>\n",
       "      <th>status</th>\n",
       "      <th>tagline</th>\n",
       "      <th>title</th>\n",
       "      <th>video</th>\n",
       "      <th>vote_average</th>\n",
       "      <th>vote_count</th>\n",
       "      <th>certification</th>\n",
       "    </tr>\n",
       "  </thead>\n",
       "  <tbody>\n",
       "    <tr>\n",
       "      <th>0</th>\n",
       "      <td>\\n0</td>\n",
       "      <td>NaN</td>\n",
       "      <td>NaN</td>\n",
       "      <td>NaN</td>\n",
       "      <td>NaN</td>\n",
       "      <td>NaN</td>\n",
       "      <td>NaN</td>\n",
       "      <td>NaN</td>\n",
       "      <td>NaN</td>\n",
       "      <td>NaN</td>\n",
       "      <td>...</td>\n",
       "      <td>NaN</td>\n",
       "      <td>NaN</td>\n",
       "      <td>NaN</td>\n",
       "      <td>NaN</td>\n",
       "      <td>NaN</td>\n",
       "      <td>NaN</td>\n",
       "      <td>NaN</td>\n",
       "      <td>NaN</td>\n",
       "      <td>NaN</td>\n",
       "      <td>NaN</td>\n",
       "    </tr>\n",
       "    <tr>\n",
       "      <th>1</th>\n",
       "      <td>\\ntt0260305</td>\n",
       "      <td>0.0</td>\n",
       "      <td>/lTN9dbQNJjSIEROc74iUOnblhIn.jpg</td>\n",
       "      <td>NaN</td>\n",
       "      <td>0.0</td>\n",
       "      <td>[{'id': 18, 'name': 'Drama'}, {'id': 35, 'name...</td>\n",
       "      <td>NaN</td>\n",
       "      <td>101708.0</td>\n",
       "      <td>en</td>\n",
       "      <td>Putting It Together</td>\n",
       "      <td>...</td>\n",
       "      <td>0.0</td>\n",
       "      <td>105.0</td>\n",
       "      <td>[{'english_name': 'English', 'iso_639_1': 'en'...</td>\n",
       "      <td>Released</td>\n",
       "      <td>A musical review</td>\n",
       "      <td>Putting It Together</td>\n",
       "      <td>0.0</td>\n",
       "      <td>5.800</td>\n",
       "      <td>6.0</td>\n",
       "      <td>NR</td>\n",
       "    </tr>\n",
       "    <tr>\n",
       "      <th>2</th>\n",
       "      <td>\\ntt0312305</td>\n",
       "      <td>0.0</td>\n",
       "      <td>/lqUbt2cy2pnqvxKefbQAtxLS0WA.jpg</td>\n",
       "      <td>NaN</td>\n",
       "      <td>0.0</td>\n",
       "      <td>[{'id': 10751, 'name': 'Family'}, {'id': 16, '...</td>\n",
       "      <td>http://www.qqthemovie.com/</td>\n",
       "      <td>23738.0</td>\n",
       "      <td>en</td>\n",
       "      <td>Quantum Quest: A Cassini Space Odyssey</td>\n",
       "      <td>...</td>\n",
       "      <td>0.0</td>\n",
       "      <td>45.0</td>\n",
       "      <td>[{'english_name': 'English', 'iso_639_1': 'en'...</td>\n",
       "      <td>Released</td>\n",
       "      <td>NaN</td>\n",
       "      <td>Quantum Quest: A Cassini Space Odyssey</td>\n",
       "      <td>0.0</td>\n",
       "      <td>7.900</td>\n",
       "      <td>8.0</td>\n",
       "      <td>NaN</td>\n",
       "    </tr>\n",
       "    <tr>\n",
       "      <th>3</th>\n",
       "      <td>\\ntt0326965</td>\n",
       "      <td>0.0</td>\n",
       "      <td>/xt2klJdKCVGXcoBGQrGfAS0aGDE.jpg</td>\n",
       "      <td>NaN</td>\n",
       "      <td>0.0</td>\n",
       "      <td>[{'id': 53, 'name': 'Thriller'}, {'id': 9648, ...</td>\n",
       "      <td>http://www.inmysleep.com</td>\n",
       "      <td>40048.0</td>\n",
       "      <td>en</td>\n",
       "      <td>In My Sleep</td>\n",
       "      <td>...</td>\n",
       "      <td>0.0</td>\n",
       "      <td>90.0</td>\n",
       "      <td>[{'english_name': 'English', 'iso_639_1': 'en'...</td>\n",
       "      <td>Released</td>\n",
       "      <td>Sleepwalking can be deadly.</td>\n",
       "      <td>In My Sleep</td>\n",
       "      <td>0.0</td>\n",
       "      <td>5.318</td>\n",
       "      <td>33.0</td>\n",
       "      <td>PG-13</td>\n",
       "    </tr>\n",
       "    <tr>\n",
       "      <th>4</th>\n",
       "      <td>\\ntt0331312</td>\n",
       "      <td>0.0</td>\n",
       "      <td>NaN</td>\n",
       "      <td>NaN</td>\n",
       "      <td>0.0</td>\n",
       "      <td>[]</td>\n",
       "      <td>NaN</td>\n",
       "      <td>214026.0</td>\n",
       "      <td>en</td>\n",
       "      <td>This Wretched Life</td>\n",
       "      <td>...</td>\n",
       "      <td>0.0</td>\n",
       "      <td>0.0</td>\n",
       "      <td>[]</td>\n",
       "      <td>Released</td>\n",
       "      <td>NaN</td>\n",
       "      <td>This Wretched Life</td>\n",
       "      <td>0.0</td>\n",
       "      <td>5.000</td>\n",
       "      <td>1.0</td>\n",
       "      <td>NaN</td>\n",
       "    </tr>\n",
       "  </tbody>\n",
       "</table>\n",
       "<p>5 rows × 26 columns</p>\n",
       "</div>"
      ],
      "text/plain": [
       "       imdb_id  adult                     backdrop_path belongs_to_collection  \\\n",
       "0          \\n0    NaN                               NaN                   NaN   \n",
       "1  \\ntt0260305    0.0  /lTN9dbQNJjSIEROc74iUOnblhIn.jpg                   NaN   \n",
       "2  \\ntt0312305    0.0  /lqUbt2cy2pnqvxKefbQAtxLS0WA.jpg                   NaN   \n",
       "3  \\ntt0326965    0.0  /xt2klJdKCVGXcoBGQrGfAS0aGDE.jpg                   NaN   \n",
       "4  \\ntt0331312    0.0                               NaN                   NaN   \n",
       "\n",
       "   budget                                             genres  \\\n",
       "0     NaN                                                NaN   \n",
       "1     0.0  [{'id': 18, 'name': 'Drama'}, {'id': 35, 'name...   \n",
       "2     0.0  [{'id': 10751, 'name': 'Family'}, {'id': 16, '...   \n",
       "3     0.0  [{'id': 53, 'name': 'Thriller'}, {'id': 9648, ...   \n",
       "4     0.0                                                 []   \n",
       "\n",
       "                     homepage        id original_language  \\\n",
       "0                         NaN       NaN               NaN   \n",
       "1                         NaN  101708.0                en   \n",
       "2  http://www.qqthemovie.com/   23738.0                en   \n",
       "3    http://www.inmysleep.com   40048.0                en   \n",
       "4                         NaN  214026.0                en   \n",
       "\n",
       "                           original_title  ... revenue  runtime  \\\n",
       "0                                     NaN  ...     NaN      NaN   \n",
       "1                     Putting It Together  ...     0.0    105.0   \n",
       "2  Quantum Quest: A Cassini Space Odyssey  ...     0.0     45.0   \n",
       "3                             In My Sleep  ...     0.0     90.0   \n",
       "4                      This Wretched Life  ...     0.0      0.0   \n",
       "\n",
       "                                    spoken_languages    status  \\\n",
       "0                                                NaN       NaN   \n",
       "1  [{'english_name': 'English', 'iso_639_1': 'en'...  Released   \n",
       "2  [{'english_name': 'English', 'iso_639_1': 'en'...  Released   \n",
       "3  [{'english_name': 'English', 'iso_639_1': 'en'...  Released   \n",
       "4                                                 []  Released   \n",
       "\n",
       "                       tagline                                   title  video  \\\n",
       "0                          NaN                                     NaN    NaN   \n",
       "1             A musical review                     Putting It Together    0.0   \n",
       "2                          NaN  Quantum Quest: A Cassini Space Odyssey    0.0   \n",
       "3  Sleepwalking can be deadly.                             In My Sleep    0.0   \n",
       "4                          NaN                      This Wretched Life    0.0   \n",
       "\n",
       "   vote_average vote_count certification  \n",
       "0           NaN        NaN           NaN  \n",
       "1         5.800        6.0            NR  \n",
       "2         7.900        8.0           NaN  \n",
       "3         5.318       33.0         PG-13  \n",
       "4         5.000        1.0           NaN  \n",
       "\n",
       "[5 rows x 26 columns]"
      ]
     },
     "execution_count": 5,
     "metadata": {},
     "output_type": "execute_result"
    }
   ],
   "source": [
    "#Remove zero id\n",
    "df = df.loc[df['imdb_id'] != '0']\n",
    "df.head()"
   ]
  },
  {
   "cell_type": "code",
   "execution_count": 6,
   "id": "fb20cd2c",
   "metadata": {},
   "outputs": [],
   "source": [
    "#Save data to disk \n",
    "df.to_csv(FOLDER+'combined_tmdb_data.csv.gz', compression = 'gzip', index = False)"
   ]
  },
  {
   "cell_type": "markdown",
   "id": "c4fe33fd",
   "metadata": {},
   "source": [
    "# Load and Inspect Data"
   ]
  },
  {
   "cell_type": "code",
   "execution_count": 7,
   "id": "e033da91",
   "metadata": {},
   "outputs": [
    {
     "data": {
      "text/html": [
       "<div>\n",
       "<style scoped>\n",
       "    .dataframe tbody tr th:only-of-type {\n",
       "        vertical-align: middle;\n",
       "    }\n",
       "\n",
       "    .dataframe tbody tr th {\n",
       "        vertical-align: top;\n",
       "    }\n",
       "\n",
       "    .dataframe thead th {\n",
       "        text-align: right;\n",
       "    }\n",
       "</style>\n",
       "<table border=\"1\" class=\"dataframe\">\n",
       "  <thead>\n",
       "    <tr style=\"text-align: right;\">\n",
       "      <th></th>\n",
       "      <th>imdb_id</th>\n",
       "      <th>adult</th>\n",
       "      <th>backdrop_path</th>\n",
       "      <th>belongs_to_collection</th>\n",
       "      <th>budget</th>\n",
       "      <th>genres</th>\n",
       "      <th>homepage</th>\n",
       "      <th>id</th>\n",
       "      <th>original_language</th>\n",
       "      <th>original_title</th>\n",
       "      <th>...</th>\n",
       "      <th>revenue</th>\n",
       "      <th>runtime</th>\n",
       "      <th>spoken_languages</th>\n",
       "      <th>status</th>\n",
       "      <th>tagline</th>\n",
       "      <th>title</th>\n",
       "      <th>video</th>\n",
       "      <th>vote_average</th>\n",
       "      <th>vote_count</th>\n",
       "      <th>certification</th>\n",
       "    </tr>\n",
       "  </thead>\n",
       "  <tbody>\n",
       "    <tr>\n",
       "      <th>0</th>\n",
       "      <td>\\n\"\\n0\"</td>\n",
       "      <td>NaN</td>\n",
       "      <td>NaN</td>\n",
       "      <td>NaN</td>\n",
       "      <td>NaN</td>\n",
       "      <td>NaN</td>\n",
       "      <td>NaN</td>\n",
       "      <td>NaN</td>\n",
       "      <td>NaN</td>\n",
       "      <td>NaN</td>\n",
       "      <td>...</td>\n",
       "      <td>NaN</td>\n",
       "      <td>NaN</td>\n",
       "      <td>NaN</td>\n",
       "      <td>NaN</td>\n",
       "      <td>NaN</td>\n",
       "      <td>NaN</td>\n",
       "      <td>NaN</td>\n",
       "      <td>NaN</td>\n",
       "      <td>NaN</td>\n",
       "      <td>NaN</td>\n",
       "    </tr>\n",
       "    <tr>\n",
       "      <th>1</th>\n",
       "      <td>\\n\"\\ntt0260305\"</td>\n",
       "      <td>0.0</td>\n",
       "      <td>/lTN9dbQNJjSIEROc74iUOnblhIn.jpg</td>\n",
       "      <td>NaN</td>\n",
       "      <td>0.0</td>\n",
       "      <td>[{'id': 18, 'name': 'Drama'}, {'id': 35, 'name...</td>\n",
       "      <td>NaN</td>\n",
       "      <td>101708.0</td>\n",
       "      <td>en</td>\n",
       "      <td>Putting It Together</td>\n",
       "      <td>...</td>\n",
       "      <td>0.0</td>\n",
       "      <td>105.0</td>\n",
       "      <td>[{'english_name': 'English', 'iso_639_1': 'en'...</td>\n",
       "      <td>Released</td>\n",
       "      <td>A musical review</td>\n",
       "      <td>Putting It Together</td>\n",
       "      <td>0.0</td>\n",
       "      <td>5.800</td>\n",
       "      <td>6.0</td>\n",
       "      <td>NR</td>\n",
       "    </tr>\n",
       "    <tr>\n",
       "      <th>2</th>\n",
       "      <td>\\n\"\\ntt0312305\"</td>\n",
       "      <td>0.0</td>\n",
       "      <td>/lqUbt2cy2pnqvxKefbQAtxLS0WA.jpg</td>\n",
       "      <td>NaN</td>\n",
       "      <td>0.0</td>\n",
       "      <td>[{'id': 10751, 'name': 'Family'}, {'id': 16, '...</td>\n",
       "      <td>http://www.qqthemovie.com/</td>\n",
       "      <td>23738.0</td>\n",
       "      <td>en</td>\n",
       "      <td>Quantum Quest: A Cassini Space Odyssey</td>\n",
       "      <td>...</td>\n",
       "      <td>0.0</td>\n",
       "      <td>45.0</td>\n",
       "      <td>[{'english_name': 'English', 'iso_639_1': 'en'...</td>\n",
       "      <td>Released</td>\n",
       "      <td>NaN</td>\n",
       "      <td>Quantum Quest: A Cassini Space Odyssey</td>\n",
       "      <td>0.0</td>\n",
       "      <td>7.900</td>\n",
       "      <td>8.0</td>\n",
       "      <td>NaN</td>\n",
       "    </tr>\n",
       "    <tr>\n",
       "      <th>3</th>\n",
       "      <td>\\n\"\\ntt0326965\"</td>\n",
       "      <td>0.0</td>\n",
       "      <td>/xt2klJdKCVGXcoBGQrGfAS0aGDE.jpg</td>\n",
       "      <td>NaN</td>\n",
       "      <td>0.0</td>\n",
       "      <td>[{'id': 53, 'name': 'Thriller'}, {'id': 9648, ...</td>\n",
       "      <td>http://www.inmysleep.com</td>\n",
       "      <td>40048.0</td>\n",
       "      <td>en</td>\n",
       "      <td>In My Sleep</td>\n",
       "      <td>...</td>\n",
       "      <td>0.0</td>\n",
       "      <td>90.0</td>\n",
       "      <td>[{'english_name': 'English', 'iso_639_1': 'en'...</td>\n",
       "      <td>Released</td>\n",
       "      <td>Sleepwalking can be deadly.</td>\n",
       "      <td>In My Sleep</td>\n",
       "      <td>0.0</td>\n",
       "      <td>5.318</td>\n",
       "      <td>33.0</td>\n",
       "      <td>PG-13</td>\n",
       "    </tr>\n",
       "    <tr>\n",
       "      <th>4</th>\n",
       "      <td>\\n\"\\ntt0331312\"</td>\n",
       "      <td>0.0</td>\n",
       "      <td>NaN</td>\n",
       "      <td>NaN</td>\n",
       "      <td>0.0</td>\n",
       "      <td>[]</td>\n",
       "      <td>NaN</td>\n",
       "      <td>214026.0</td>\n",
       "      <td>en</td>\n",
       "      <td>This Wretched Life</td>\n",
       "      <td>...</td>\n",
       "      <td>0.0</td>\n",
       "      <td>0.0</td>\n",
       "      <td>[]</td>\n",
       "      <td>Released</td>\n",
       "      <td>NaN</td>\n",
       "      <td>This Wretched Life</td>\n",
       "      <td>0.0</td>\n",
       "      <td>5.000</td>\n",
       "      <td>1.0</td>\n",
       "      <td>NaN</td>\n",
       "    </tr>\n",
       "  </tbody>\n",
       "</table>\n",
       "<p>5 rows × 26 columns</p>\n",
       "</div>"
      ],
      "text/plain": [
       "           imdb_id  adult                     backdrop_path  \\\n",
       "0          \\n\"\\n0\"    NaN                               NaN   \n",
       "1  \\n\"\\ntt0260305\"    0.0  /lTN9dbQNJjSIEROc74iUOnblhIn.jpg   \n",
       "2  \\n\"\\ntt0312305\"    0.0  /lqUbt2cy2pnqvxKefbQAtxLS0WA.jpg   \n",
       "3  \\n\"\\ntt0326965\"    0.0  /xt2klJdKCVGXcoBGQrGfAS0aGDE.jpg   \n",
       "4  \\n\"\\ntt0331312\"    0.0                               NaN   \n",
       "\n",
       "  belongs_to_collection  budget  \\\n",
       "0                   NaN     NaN   \n",
       "1                   NaN     0.0   \n",
       "2                   NaN     0.0   \n",
       "3                   NaN     0.0   \n",
       "4                   NaN     0.0   \n",
       "\n",
       "                                              genres  \\\n",
       "0                                                NaN   \n",
       "1  [{'id': 18, 'name': 'Drama'}, {'id': 35, 'name...   \n",
       "2  [{'id': 10751, 'name': 'Family'}, {'id': 16, '...   \n",
       "3  [{'id': 53, 'name': 'Thriller'}, {'id': 9648, ...   \n",
       "4                                                 []   \n",
       "\n",
       "                     homepage        id original_language  \\\n",
       "0                         NaN       NaN               NaN   \n",
       "1                         NaN  101708.0                en   \n",
       "2  http://www.qqthemovie.com/   23738.0                en   \n",
       "3    http://www.inmysleep.com   40048.0                en   \n",
       "4                         NaN  214026.0                en   \n",
       "\n",
       "                           original_title  ... revenue  runtime  \\\n",
       "0                                     NaN  ...     NaN      NaN   \n",
       "1                     Putting It Together  ...     0.0    105.0   \n",
       "2  Quantum Quest: A Cassini Space Odyssey  ...     0.0     45.0   \n",
       "3                             In My Sleep  ...     0.0     90.0   \n",
       "4                      This Wretched Life  ...     0.0      0.0   \n",
       "\n",
       "                                    spoken_languages    status  \\\n",
       "0                                                NaN       NaN   \n",
       "1  [{'english_name': 'English', 'iso_639_1': 'en'...  Released   \n",
       "2  [{'english_name': 'English', 'iso_639_1': 'en'...  Released   \n",
       "3  [{'english_name': 'English', 'iso_639_1': 'en'...  Released   \n",
       "4                                                 []  Released   \n",
       "\n",
       "                       tagline                                   title  video  \\\n",
       "0                          NaN                                     NaN    NaN   \n",
       "1             A musical review                     Putting It Together    0.0   \n",
       "2                          NaN  Quantum Quest: A Cassini Space Odyssey    0.0   \n",
       "3  Sleepwalking can be deadly.                             In My Sleep    0.0   \n",
       "4                          NaN                      This Wretched Life    0.0   \n",
       "\n",
       "   vote_average vote_count certification  \n",
       "0           NaN        NaN           NaN  \n",
       "1         5.800        6.0            NR  \n",
       "2         7.900        8.0           NaN  \n",
       "3         5.318       33.0         PG-13  \n",
       "4         5.000        1.0           NaN  \n",
       "\n",
       "[5 rows x 26 columns]"
      ]
     },
     "execution_count": 7,
     "metadata": {},
     "output_type": "execute_result"
    }
   ],
   "source": [
    "# Load new dataset and verify\n",
    "df1 = pd.read_csv(FOLDER+'combined_tmdb_data.csv.gz',lineterminator='\\r')\n",
    "df1.head()"
   ]
  },
  {
   "cell_type": "code",
   "execution_count": 8,
   "id": "da1a33df",
   "metadata": {},
   "outputs": [
    {
     "name": "stdout",
     "output_type": "stream",
     "text": [
      "<class 'pandas.core.frame.DataFrame'>\n",
      "Int64Index: 7485 entries, 0 to 3567\n",
      "Data columns (total 26 columns):\n",
      " #   Column                 Non-Null Count  Dtype  \n",
      "---  ------                 --------------  -----  \n",
      " 0   imdb_id                7485 non-null   object \n",
      " 1   adult                  7479 non-null   float64\n",
      " 2   backdrop_path          4326 non-null   object \n",
      " 3   belongs_to_collection  568 non-null    object \n",
      " 4   budget                 7479 non-null   float64\n",
      " 5   genres                 7479 non-null   object \n",
      " 6   homepage               1958 non-null   object \n",
      " 7   id                     7479 non-null   float64\n",
      " 8   original_language      7479 non-null   object \n",
      " 9   original_title         7479 non-null   object \n",
      " 10  overview               7272 non-null   object \n",
      " 11  popularity             7479 non-null   float64\n",
      " 12  poster_path            6600 non-null   object \n",
      " 13  production_companies   7479 non-null   object \n",
      " 14  production_countries   7479 non-null   object \n",
      " 15  release_date           7365 non-null   object \n",
      " 16  revenue                7479 non-null   float64\n",
      " 17  runtime                7479 non-null   float64\n",
      " 18  spoken_languages       7479 non-null   object \n",
      " 19  status                 7479 non-null   object \n",
      " 20  tagline                2836 non-null   object \n",
      " 21  title                  7479 non-null   object \n",
      " 22  video                  7479 non-null   float64\n",
      " 23  vote_average           7479 non-null   float64\n",
      " 24  vote_count             7479 non-null   float64\n",
      " 25  certification          2078 non-null   object \n",
      "dtypes: float64(9), object(17)\n",
      "memory usage: 1.5+ MB\n"
     ]
    }
   ],
   "source": [
    "df.info()"
   ]
  },
  {
   "cell_type": "code",
   "execution_count": 9,
   "id": "3288ec97",
   "metadata": {},
   "outputs": [
    {
     "name": "stdout",
     "output_type": "stream",
     "text": [
      "<class 'pandas.core.frame.DataFrame'>\n",
      "Int64Index: 7485 entries, 0 to 3567\n",
      "Data columns (total 7 columns):\n",
      " #   Column         Non-Null Count  Dtype  \n",
      "---  ------         --------------  -----  \n",
      " 0   imdb_id        7485 non-null   object \n",
      " 1   release_date   7365 non-null   object \n",
      " 2   revenue        7479 non-null   float64\n",
      " 3   runtime        7479 non-null   float64\n",
      " 4   vote_average   7479 non-null   float64\n",
      " 5   vote_count     7479 non-null   float64\n",
      " 6   certification  2078 non-null   object \n",
      "dtypes: float64(4), object(3)\n",
      "memory usage: 467.8+ KB\n"
     ]
    }
   ],
   "source": [
    "#Drop unneedeed columns for testing\n",
    "drop_cols = ['adult', 'backdrop_path', 'belongs_to_collection', 'homepage', \n",
    "             'original_title', 'overview', 'poster_path', 'status', 'tagline', \n",
    "             'video', 'budget', 'genres', 'id', 'original_language', \n",
    "             'popularity', 'production_companies', 'production_countries', \n",
    "             'spoken_languages', 'title',]\n",
    "df = df.drop(columns = drop_cols)\n",
    "df.info()"
   ]
  },
  {
   "cell_type": "code",
   "execution_count": 10,
   "id": "4ed2c82a",
   "metadata": {},
   "outputs": [
    {
     "data": {
      "text/plain": [
       "NaN      5407\n",
       "R         816\n",
       "NR        513\n",
       "PG-13     428\n",
       "PG        215\n",
       "G          86\n",
       "NC-17      20\n",
       "Name: certification, dtype: int64"
      ]
     },
     "execution_count": 10,
     "metadata": {},
     "output_type": "execute_result"
    }
   ],
   "source": [
    "#Preview certification column\n",
    "df['certification'].value_counts(dropna = False)"
   ]
  },
  {
   "cell_type": "code",
   "execution_count": 11,
   "id": "2b0b0a9a",
   "metadata": {},
   "outputs": [
    {
     "data": {
      "text/plain": [
       "NaN      5407\n",
       "R         816\n",
       "NR        513\n",
       "PG-13     428\n",
       "PG        215\n",
       "G          86\n",
       "NC-17      20\n",
       "Name: certification, dtype: int64"
      ]
     },
     "execution_count": 11,
     "metadata": {},
     "output_type": "execute_result"
    }
   ],
   "source": [
    "#Clean up extra ratings\n",
    "cert_dict = {'Unrated': 'NR',\n",
    "            'UR': 'NR',\n",
    "            'Not Rated': 'NR',\n",
    "            'ScreamFest Horror Film Festival': 'NR'}\n",
    "\n",
    "#Replace values\n",
    "df['certification'] = df['certification'].replace(cert_dict)\n",
    "df['certification'].value_counts(dropna = False)"
   ]
  },
  {
   "cell_type": "code",
   "execution_count": 12,
   "id": "35ef4710",
   "metadata": {},
   "outputs": [
    {
     "data": {
      "text/plain": [
       "R        816\n",
       "NR       513\n",
       "PG-13    428\n",
       "PG       215\n",
       "G         86\n",
       "NC-17     20\n",
       "Name: certification, dtype: int64"
      ]
     },
     "execution_count": 12,
     "metadata": {},
     "output_type": "execute_result"
    }
   ],
   "source": [
    "#Drop null values\n",
    "df = df.dropna(subset = 'certification')\n",
    "df['certification'].value_counts()"
   ]
  },
  {
   "cell_type": "markdown",
   "id": "b80a3188",
   "metadata": {},
   "source": [
    "# Hypothesis Testing"
   ]
  },
  {
   "cell_type": "markdown",
   "id": "a7cdf2e3",
   "metadata": {
    "heading_collapsed": true
   },
   "source": [
    "## Hypothesis 1\n",
    "\n",
    "**Business Question**: \n",
    "- Does the MPAA rating of a movie (G/PG/PG-13/R) affect how much revenue the movie generates?\n",
    "\n",
    "**State Hypothesese**: \n",
    "- H<sub>0</sub>: There is no difference between revenue generated for different ratings.\n",
    "- H<sub>a</sub>: There is a significant difference between revenue generated for different ratings.\n",
    "\n",
    "**Alpha** \n",
    "- 0.05\n",
    "\n",
    "**Test type**:\n",
    "- Because we are comparing a numeric value (revenue) across multiple groups (ratings), I will use an ANOVA test."
   ]
  },
  {
   "cell_type": "markdown",
   "id": "0db3f55a",
   "metadata": {
    "hidden": true
   },
   "source": [
    "**Test Assumptions**: \n",
    "- No significant outliers.\n",
    "- Normality.\n",
    "- Equal Variance."
   ]
  },
  {
   "cell_type": "code",
   "execution_count": 13,
   "id": "3c20d3c8",
   "metadata": {
    "hidden": true
   },
   "outputs": [
    {
     "data": {
      "text/plain": [
       "dict_keys(['NR', 'PG-13', 'PG', 'R', 'G', 'NC-17'])"
      ]
     },
     "execution_count": 13,
     "metadata": {},
     "output_type": "execute_result"
    }
   ],
   "source": [
    "##Create groups dictionary\n",
    "groups = {}\n",
    "#Loop through all unique categories\n",
    "for i in df['certification'].unique():\n",
    "    ## Get series for group and rename\n",
    "    data = df.loc[df['certification']==i,'revenue'].copy()\n",
    "    \n",
    "    # save into the dictionary\n",
    "    groups[i] = data\n",
    "groups.keys()"
   ]
  },
  {
   "cell_type": "code",
   "execution_count": 14,
   "id": "947a30cb",
   "metadata": {
    "hidden": true
   },
   "outputs": [
    {
     "data": {
      "text/html": [
       "<div>\n",
       "<style scoped>\n",
       "    .dataframe tbody tr th:only-of-type {\n",
       "        vertical-align: middle;\n",
       "    }\n",
       "\n",
       "    .dataframe tbody tr th {\n",
       "        vertical-align: top;\n",
       "    }\n",
       "\n",
       "    .dataframe thead th {\n",
       "        text-align: right;\n",
       "    }\n",
       "</style>\n",
       "<table border=\"1\" class=\"dataframe\">\n",
       "  <thead>\n",
       "    <tr style=\"text-align: right;\">\n",
       "      <th></th>\n",
       "      <th>n</th>\n",
       "      <th>p</th>\n",
       "      <th>test stat</th>\n",
       "      <th>sig</th>\n",
       "    </tr>\n",
       "  </thead>\n",
       "  <tbody>\n",
       "    <tr>\n",
       "      <th>NR</th>\n",
       "      <td>513.0</td>\n",
       "      <td>4.718861e-248</td>\n",
       "      <td>1138.979071</td>\n",
       "      <td>True</td>\n",
       "    </tr>\n",
       "    <tr>\n",
       "      <th>PG-13</th>\n",
       "      <td>428.0</td>\n",
       "      <td>7.941967e-87</td>\n",
       "      <td>396.505484</td>\n",
       "      <td>True</td>\n",
       "    </tr>\n",
       "    <tr>\n",
       "      <th>PG</th>\n",
       "      <td>215.0</td>\n",
       "      <td>1.034547e-36</td>\n",
       "      <td>165.718200</td>\n",
       "      <td>True</td>\n",
       "    </tr>\n",
       "    <tr>\n",
       "      <th>R</th>\n",
       "      <td>816.0</td>\n",
       "      <td>2.444962e-186</td>\n",
       "      <td>854.773596</td>\n",
       "      <td>True</td>\n",
       "    </tr>\n",
       "    <tr>\n",
       "      <th>G</th>\n",
       "      <td>86.0</td>\n",
       "      <td>2.886346e-30</td>\n",
       "      <td>136.035123</td>\n",
       "      <td>True</td>\n",
       "    </tr>\n",
       "    <tr>\n",
       "      <th>NC-17</th>\n",
       "      <td>20.0</td>\n",
       "      <td>3.964616e-11</td>\n",
       "      <td>47.902054</td>\n",
       "      <td>True</td>\n",
       "    </tr>\n",
       "  </tbody>\n",
       "</table>\n",
       "</div>"
      ],
      "text/plain": [
       "           n              p    test stat   sig\n",
       "NR     513.0  4.718861e-248  1138.979071  True\n",
       "PG-13  428.0   7.941967e-87   396.505484  True\n",
       "PG     215.0   1.034547e-36   165.718200  True\n",
       "R      816.0  2.444962e-186   854.773596  True\n",
       "G       86.0   2.886346e-30   136.035123  True\n",
       "NC-17   20.0   3.964616e-11    47.902054  True"
      ]
     },
     "execution_count": 14,
     "metadata": {},
     "output_type": "execute_result"
    }
   ],
   "source": [
    "#Running normal test on each group and confirming there are >20 in each group\n",
    "norm_results = {}\n",
    "for i, data in groups.items():\n",
    "    stat, p = stats.normaltest(data)\n",
    "    ## save the p val, test statistic, and the size of the group\n",
    "    norm_results[i] = {'n': len(data),\n",
    "                             'p':p,\n",
    "                             'test stat':stat,}\n",
    "## convert to a dataframe\n",
    "norm_results_df = pd.DataFrame(norm_results).T\n",
    "\n",
    "#Checking sig with pandas \n",
    "norm_results_df['sig'] = norm_results_df['p'] < .05 \n",
    "norm_results_df"
   ]
  },
  {
   "cell_type": "markdown",
   "id": "28ea5732",
   "metadata": {
    "hidden": true
   },
   "source": [
    "Note: There are more than 15 samples in each group, so we can continue."
   ]
  },
  {
   "cell_type": "code",
   "execution_count": 15,
   "id": "c3411226",
   "metadata": {
    "hidden": true
   },
   "outputs": [
    {
     "data": {
      "text/plain": [
       "LeveneResult(statistic=29.152060934097257, pvalue=1.1166710071019755e-28)"
      ]
     },
     "execution_count": 15,
     "metadata": {},
     "output_type": "execute_result"
    }
   ],
   "source": [
    "#Test for equal variance\n",
    "stats.levene(*groups.values())"
   ]
  },
  {
   "cell_type": "markdown",
   "id": "decea18f",
   "metadata": {
    "hidden": true
   },
   "source": [
    "### Run Test"
   ]
  },
  {
   "cell_type": "code",
   "execution_count": 16,
   "id": "dc196987",
   "metadata": {
    "hidden": true
   },
   "outputs": [
    {
     "name": "stdout",
     "output_type": "stream",
     "text": [
      "KruskalResult(statistic=5.0, pvalue=0.4158801869955079)\n",
      "False\n"
     ]
    },
    {
     "name": "stderr",
     "output_type": "stream",
     "text": [
      "C:\\Users\\pafoy_gz6qkdd\\anaconda3\\envs\\dojo-env\\lib\\site-packages\\scipy\\stats\\_stats_py.py:112: RuntimeWarning: The input array could not be properly checked for nan values. nan values will be ignored.\n",
      "  warnings.warn(\"The input array could not be properly \"\n"
     ]
    }
   ],
   "source": [
    "#Execute Kruskal=Wallis test\n",
    "result = stats.kruskal(*groups)\n",
    "print(result)\n",
    "print(result.pvalue < .05)"
   ]
  },
  {
   "cell_type": "markdown",
   "id": "4031bd47",
   "metadata": {
    "hidden": true
   },
   "source": [
    "### Results\n",
    "- Our p-value is ***greater than*** our alpha of 0.05, therefore we fail to reject the null hypothesis. In our data, there is not a significant difference in average revenue generated per rating category.\n"
   ]
  },
  {
   "cell_type": "markdown",
   "id": "7fabc053",
   "metadata": {
    "hidden": true
   },
   "source": [
    "### Supporting Visualization"
   ]
  },
  {
   "cell_type": "code",
   "execution_count": 17,
   "id": "6633ed92",
   "metadata": {
    "hidden": true
   },
   "outputs": [
    {
     "data": {
      "image/png": "[encoded data removed]",
      "text/plain": [
       "<Figure size 640x480 with 1 Axes>"
      ]
     },
     "metadata": {},
     "output_type": "display_data"
    }
   ],
   "source": [
    "#Create barplot of revenue vs. rating\n",
    "ax = sns.barplot(data = df, x= 'certification', y= 'revenue', errwidth=0)\n",
    "ax.set_title('Average Revenue per Rating');"
   ]
  },
  {
   "cell_type": "markdown",
   "id": "3a3d9e87",
   "metadata": {},
   "source": [
    "## Hypothesis Test 2\n",
    "\n",
    "- Do movies that are over 2.5 hours long earn more revenue than movies that are 1.5 hours long (or less)?\n",
    "\n",
    "**State Hypothesese**: \n",
    "- H<sub>0</sub>: There is no difference between groups of movies.\n",
    "- H<sub>a</sub>: There is a significant difference between groups of movies.\n",
    "\n",
    "**Alpha** \n",
    "- 0.05\n",
    "\n",
    "**Test type**:\n",
    "- We are comparing a numeric outcome (revenue) to another numeric variable (runtime), so I will use a 2-sample t-test.\n",
    "\n"
   ]
  },
  {
   "cell_type": "markdown",
   "id": "94483347",
   "metadata": {},
   "source": [
    "### Data Preprocessing"
   ]
  },
  {
   "cell_type": "code",
   "execution_count": 18,
   "id": "fa3c57f4",
   "metadata": {},
   "outputs": [
    {
     "data": {
      "text/html": [
       "<div>\n",
       "<style scoped>\n",
       "    .dataframe tbody tr th:only-of-type {\n",
       "        vertical-align: middle;\n",
       "    }\n",
       "\n",
       "    .dataframe tbody tr th {\n",
       "        vertical-align: top;\n",
       "    }\n",
       "\n",
       "    .dataframe thead th {\n",
       "        text-align: right;\n",
       "    }\n",
       "</style>\n",
       "<table border=\"1\" class=\"dataframe\">\n",
       "  <thead>\n",
       "    <tr style=\"text-align: right;\">\n",
       "      <th></th>\n",
       "      <th>imdb_id</th>\n",
       "      <th>release_date</th>\n",
       "      <th>revenue</th>\n",
       "      <th>runtime</th>\n",
       "      <th>vote_average</th>\n",
       "      <th>vote_count</th>\n",
       "      <th>certification</th>\n",
       "      <th>is_long</th>\n",
       "      <th>is_short</th>\n",
       "    </tr>\n",
       "  </thead>\n",
       "  <tbody>\n",
       "    <tr>\n",
       "      <th>1</th>\n",
       "      <td>\\ntt0260305</td>\n",
       "      <td>2001-10-14</td>\n",
       "      <td>0.0</td>\n",
       "      <td>105.0</td>\n",
       "      <td>5.800</td>\n",
       "      <td>6.0</td>\n",
       "      <td>NR</td>\n",
       "      <td>False</td>\n",
       "      <td>False</td>\n",
       "    </tr>\n",
       "    <tr>\n",
       "      <th>3</th>\n",
       "      <td>\\ntt0326965</td>\n",
       "      <td>2010-04-23</td>\n",
       "      <td>0.0</td>\n",
       "      <td>90.0</td>\n",
       "      <td>5.318</td>\n",
       "      <td>33.0</td>\n",
       "      <td>PG-13</td>\n",
       "      <td>False</td>\n",
       "      <td>True</td>\n",
       "    </tr>\n",
       "    <tr>\n",
       "      <th>6</th>\n",
       "      <td>\\ntt0398286</td>\n",
       "      <td>2010-11-24</td>\n",
       "      <td>592461732.0</td>\n",
       "      <td>100.0</td>\n",
       "      <td>7.598</td>\n",
       "      <td>10510.0</td>\n",
       "      <td>PG</td>\n",
       "      <td>False</td>\n",
       "      <td>False</td>\n",
       "    </tr>\n",
       "    <tr>\n",
       "      <th>8</th>\n",
       "      <td>\\ntt0411951</td>\n",
       "      <td>2010-03-20</td>\n",
       "      <td>967000.0</td>\n",
       "      <td>92.0</td>\n",
       "      <td>5.377</td>\n",
       "      <td>624.0</td>\n",
       "      <td>R</td>\n",
       "      <td>False</td>\n",
       "      <td>False</td>\n",
       "    </tr>\n",
       "    <tr>\n",
       "      <th>9</th>\n",
       "      <td>\\ntt0419692</td>\n",
       "      <td>2010-08-06</td>\n",
       "      <td>0.0</td>\n",
       "      <td>112.0</td>\n",
       "      <td>5.889</td>\n",
       "      <td>9.0</td>\n",
       "      <td>NR</td>\n",
       "      <td>False</td>\n",
       "      <td>False</td>\n",
       "    </tr>\n",
       "  </tbody>\n",
       "</table>\n",
       "</div>"
      ],
      "text/plain": [
       "       imdb_id release_date      revenue  runtime  vote_average  vote_count  \\\n",
       "1  \\ntt0260305   2001-10-14          0.0    105.0         5.800         6.0   \n",
       "3  \\ntt0326965   2010-04-23          0.0     90.0         5.318        33.0   \n",
       "6  \\ntt0398286   2010-11-24  592461732.0    100.0         7.598     10510.0   \n",
       "8  \\ntt0411951   2010-03-20     967000.0     92.0         5.377       624.0   \n",
       "9  \\ntt0419692   2010-08-06          0.0    112.0         5.889         9.0   \n",
       "\n",
       "  certification  is_long  is_short  \n",
       "1            NR    False     False  \n",
       "3         PG-13    False      True  \n",
       "6            PG    False     False  \n",
       "8             R    False     False  \n",
       "9            NR    False     False  "
      ]
     },
     "execution_count": 18,
     "metadata": {},
     "output_type": "execute_result"
    }
   ],
   "source": [
    "# Add new columsn for short and long movies\n",
    "df['is_long'] = df['runtime'] > 150\n",
    "df['is_short'] = df['runtime'] <= 90\n",
    "df.head()"
   ]
  },
  {
   "cell_type": "code",
   "execution_count": 19,
   "id": "5c024cb2",
   "metadata": {},
   "outputs": [
    {
     "name": "stdout",
     "output_type": "stream",
     "text": [
      "There are 15 movies over 2.5 hours.\n",
      "There are 840 movies under 1.5 hours.\n"
     ]
    }
   ],
   "source": [
    "# Create groups to test for long (>150 min) and short (<150 min)\n",
    "long = df.loc[df['is_long'] == True, ['revenue', 'is_long']]\n",
    "short = df.loc[df['is_short'] == True, ['revenue', 'is_short']]\n",
    "print(f'There are {len(long)} movies over 2.5 hours.')\n",
    "print(f'There are {len(short)} movies under 1.5 hours.')"
   ]
  },
  {
   "cell_type": "code",
   "execution_count": 20,
   "id": "eb68c207",
   "metadata": {},
   "outputs": [
    {
     "data": {
      "text/plain": [
       "275    2.700000e+06\n",
       "288    4.234536e+07\n",
       "232    1.123794e+09\n",
       "373    0.000000e+00\n",
       "527    0.000000e+00\n",
       "Name: revenue, dtype: float64"
      ]
     },
     "metadata": {},
     "output_type": "display_data"
    },
    {
     "data": {
      "text/plain": [
       "3            0.0\n",
       "24    83188165.0\n",
       "25           0.0\n",
       "41           0.0\n",
       "45           0.0\n",
       "Name: revenue, dtype: float64"
      ]
     },
     "metadata": {},
     "output_type": "display_data"
    }
   ],
   "source": [
    "#Create new datasets\n",
    "long_group = long['revenue']\n",
    "short_group = short['revenue']\n",
    "display(long_group.head(), short_group.head())"
   ]
  },
  {
   "cell_type": "markdown",
   "id": "23fd2518",
   "metadata": {},
   "source": [
    "### Test Assumptions\n",
    "\n",
    "- No significant outliers\n",
    "- Normality\n",
    "- Equal variance"
   ]
  },
  {
   "cell_type": "code",
   "execution_count": 21,
   "id": "d3d70401",
   "metadata": {},
   "outputs": [
    {
     "data": {
      "text/plain": [
       "0"
      ]
     },
     "execution_count": 21,
     "metadata": {},
     "output_type": "execute_result"
    }
   ],
   "source": [
    "# Check for sig. outliers in long group\n",
    "zscores_long = stats.zscore(long_group)\n",
    "outliers_long = abs(zscores_long)>3\n",
    "np.sum(outliers_long)"
   ]
  },
  {
   "cell_type": "code",
   "execution_count": 22,
   "id": "7f04f903",
   "metadata": {},
   "outputs": [],
   "source": [
    "# Remove outliers\n",
    "long_group = long_group[(np.abs(stats.zscore(long_group)) < 3)]"
   ]
  },
  {
   "cell_type": "code",
   "execution_count": 23,
   "id": "d35102c0",
   "metadata": {},
   "outputs": [
    {
     "data": {
      "text/plain": [
       "8"
      ]
     },
     "execution_count": 23,
     "metadata": {},
     "output_type": "execute_result"
    }
   ],
   "source": [
    "#Check for sig. outliers in short group\n",
    "zscores_short = stats.zscore(short_group)\n",
    "outliers_short = abs(zscores_short)>3\n",
    "np.sum(outliers_short)"
   ]
  },
  {
   "cell_type": "code",
   "execution_count": 24,
   "id": "b47c41f3",
   "metadata": {},
   "outputs": [],
   "source": [
    "#Remove outliers\n",
    "short_group = short_group[(np.abs(stats.zscore(short_group)) < 3)]"
   ]
  },
  {
   "cell_type": "code",
   "execution_count": 25,
   "id": "7f0793f5",
   "metadata": {},
   "outputs": [
    {
     "name": "stderr",
     "output_type": "stream",
     "text": [
      "C:\\Users\\pafoy_gz6qkdd\\anaconda3\\envs\\dojo-env\\lib\\site-packages\\scipy\\stats\\_stats_py.py:1772: UserWarning: kurtosistest only valid for n>=20 ... continuing anyway, n=15\n",
      "  warnings.warn(\"kurtosistest only valid for n>=20 ... continuing \"\n"
     ]
    },
    {
     "data": {
      "text/plain": [
       "NormaltestResult(statistic=4.3585114873130015, pvalue=0.11312569383231767)"
      ]
     },
     "execution_count": 25,
     "metadata": {},
     "output_type": "execute_result"
    }
   ],
   "source": [
    "#Normal Test for long group\n",
    "result_long = stats.normaltest(long_group)\n",
    "result_long"
   ]
  },
  {
   "cell_type": "code",
   "execution_count": 26,
   "id": "ab787c4f",
   "metadata": {},
   "outputs": [
    {
     "data": {
      "text/plain": [
       "NormaltestResult(statistic=1050.7250098796528, pvalue=6.88593796357394e-229)"
      ]
     },
     "execution_count": 26,
     "metadata": {},
     "output_type": "execute_result"
    }
   ],
   "source": [
    "#Normal Test of short group\n",
    "result_short = stats.normaltest(short_group)\n",
    "result_short"
   ]
  },
  {
   "cell_type": "code",
   "execution_count": 27,
   "id": "df966be4",
   "metadata": {},
   "outputs": [
    {
     "data": {
      "text/plain": [
       "LeveneResult(statistic=585.4709840208482, pvalue=1.0931828654559278e-98)"
      ]
     },
     "execution_count": 27,
     "metadata": {},
     "output_type": "execute_result"
    }
   ],
   "source": [
    "#Test for equal variance\n",
    "result = stats.levene(long_group, short_group)\n",
    "result"
   ]
  },
  {
   "cell_type": "markdown",
   "id": "333bb73d",
   "metadata": {},
   "source": [
    "Note: \n",
    "- Failed equal variance test. \n",
    "- As a result, we'll need to use a Welch's T-test with the equal_var = False parameter"
   ]
  },
  {
   "cell_type": "markdown",
   "id": "471fab32",
   "metadata": {},
   "source": [
    "### Run test"
   ]
  },
  {
   "cell_type": "code",
   "execution_count": 28,
   "id": "b70810d7",
   "metadata": {},
   "outputs": [
    {
     "data": {
      "text/plain": [
       "Ttest_indResult(statistic=3.0204788984040984, pvalue=0.009171198071895736)"
      ]
     },
     "execution_count": 28,
     "metadata": {},
     "output_type": "execute_result"
    }
   ],
   "source": [
    "result = stats.ttest_ind(long_group, short_group, equal_var = False)\n",
    "result"
   ]
  },
  {
   "cell_type": "markdown",
   "id": "c24943ab",
   "metadata": {},
   "source": [
    "The p-value from the t-test is less than 0.05. We can reject the null hypothesis. There is a significant difference between the revenue generated by short movies vs. long movies."
   ]
  },
  {
   "cell_type": "markdown",
   "id": "1079117e",
   "metadata": {},
   "source": [
    "### Visualization"
   ]
  },
  {
   "cell_type": "code",
   "execution_count": 29,
   "id": "9473f792",
   "metadata": {},
   "outputs": [
    {
     "data": {
      "image/png": "[encoded data removed]",
      "text/plain": [
       "<Figure size 640x480 with 1 Axes>"
      ]
     },
     "metadata": {},
     "output_type": "display_data"
    }
   ],
   "source": [
    "#Create barplot \n",
    "ax = sns.barplot(data = df, x= 'is_long', y= 'revenue', errwidth=0)\n",
    "ax.set_title('Average Revenue per Rating');"
   ]
  },
  {
   "cell_type": "markdown",
   "id": "a96bb261",
   "metadata": {},
   "source": [
    "## Hypothesis 3\n",
    "\n",
    "- Do movies with higher votes generate more revenue?"
   ]
  },
  {
   "cell_type": "markdown",
   "id": "32d6c876",
   "metadata": {},
   "source": [
    "H<sub>0</sub>: There is no difference in revenue between movies with higher votes.\n",
    "\n",
    "H<sub>a</sub>: There is a significant difference between revenue generated between movies with large votes and movies with small votes.\n",
    "\n",
    "Alpha = 0.05\n",
    "\n",
    "**Test type:**\n",
    "\n",
    "- We will use a 2-sample T-test because are comparing two numeric values. \n",
    "\n",
    "**Assumptions:**\n",
    "\n",
    "- No significant outliers\n",
    "- Normality\n",
    "- Equal variance"
   ]
  },
  {
   "cell_type": "markdown",
   "id": "7d3c8e12",
   "metadata": {},
   "source": [
    "### Select Groups"
   ]
  },
  {
   "cell_type": "code",
   "execution_count": 30,
   "id": "242cb461",
   "metadata": {},
   "outputs": [
    {
     "data": {
      "text/html": [
       "<div>\n",
       "<style scoped>\n",
       "    .dataframe tbody tr th:only-of-type {\n",
       "        vertical-align: middle;\n",
       "    }\n",
       "\n",
       "    .dataframe tbody tr th {\n",
       "        vertical-align: top;\n",
       "    }\n",
       "\n",
       "    .dataframe thead th {\n",
       "        text-align: right;\n",
       "    }\n",
       "</style>\n",
       "<table border=\"1\" class=\"dataframe\">\n",
       "  <thead>\n",
       "    <tr style=\"text-align: right;\">\n",
       "      <th></th>\n",
       "      <th>imdb_id</th>\n",
       "      <th>release_date</th>\n",
       "      <th>revenue</th>\n",
       "      <th>runtime</th>\n",
       "      <th>vote_average</th>\n",
       "      <th>vote_count</th>\n",
       "      <th>certification</th>\n",
       "      <th>is_long</th>\n",
       "      <th>is_short</th>\n",
       "      <th>high_ratings</th>\n",
       "    </tr>\n",
       "  </thead>\n",
       "  <tbody>\n",
       "    <tr>\n",
       "      <th>1</th>\n",
       "      <td>\\ntt0260305</td>\n",
       "      <td>2001-10-14</td>\n",
       "      <td>0.0</td>\n",
       "      <td>105.0</td>\n",
       "      <td>5.800</td>\n",
       "      <td>6.0</td>\n",
       "      <td>NR</td>\n",
       "      <td>False</td>\n",
       "      <td>False</td>\n",
       "      <td>True</td>\n",
       "    </tr>\n",
       "    <tr>\n",
       "      <th>3</th>\n",
       "      <td>\\ntt0326965</td>\n",
       "      <td>2010-04-23</td>\n",
       "      <td>0.0</td>\n",
       "      <td>90.0</td>\n",
       "      <td>5.318</td>\n",
       "      <td>33.0</td>\n",
       "      <td>PG-13</td>\n",
       "      <td>False</td>\n",
       "      <td>True</td>\n",
       "      <td>True</td>\n",
       "    </tr>\n",
       "    <tr>\n",
       "      <th>6</th>\n",
       "      <td>\\ntt0398286</td>\n",
       "      <td>2010-11-24</td>\n",
       "      <td>592461732.0</td>\n",
       "      <td>100.0</td>\n",
       "      <td>7.598</td>\n",
       "      <td>10510.0</td>\n",
       "      <td>PG</td>\n",
       "      <td>False</td>\n",
       "      <td>False</td>\n",
       "      <td>True</td>\n",
       "    </tr>\n",
       "    <tr>\n",
       "      <th>8</th>\n",
       "      <td>\\ntt0411951</td>\n",
       "      <td>2010-03-20</td>\n",
       "      <td>967000.0</td>\n",
       "      <td>92.0</td>\n",
       "      <td>5.377</td>\n",
       "      <td>624.0</td>\n",
       "      <td>R</td>\n",
       "      <td>False</td>\n",
       "      <td>False</td>\n",
       "      <td>True</td>\n",
       "    </tr>\n",
       "    <tr>\n",
       "      <th>9</th>\n",
       "      <td>\\ntt0419692</td>\n",
       "      <td>2010-08-06</td>\n",
       "      <td>0.0</td>\n",
       "      <td>112.0</td>\n",
       "      <td>5.889</td>\n",
       "      <td>9.0</td>\n",
       "      <td>NR</td>\n",
       "      <td>False</td>\n",
       "      <td>False</td>\n",
       "      <td>True</td>\n",
       "    </tr>\n",
       "  </tbody>\n",
       "</table>\n",
       "</div>"
      ],
      "text/plain": [
       "       imdb_id release_date      revenue  runtime  vote_average  vote_count  \\\n",
       "1  \\ntt0260305   2001-10-14          0.0    105.0         5.800         6.0   \n",
       "3  \\ntt0326965   2010-04-23          0.0     90.0         5.318        33.0   \n",
       "6  \\ntt0398286   2010-11-24  592461732.0    100.0         7.598     10510.0   \n",
       "8  \\ntt0411951   2010-03-20     967000.0     92.0         5.377       624.0   \n",
       "9  \\ntt0419692   2010-08-06          0.0    112.0         5.889         9.0   \n",
       "\n",
       "  certification  is_long  is_short  high_ratings  \n",
       "1            NR    False     False          True  \n",
       "3         PG-13    False      True          True  \n",
       "6            PG    False     False          True  \n",
       "8             R    False     False          True  \n",
       "9            NR    False     False          True  "
      ]
     },
     "execution_count": 30,
     "metadata": {},
     "output_type": "execute_result"
    }
   ],
   "source": [
    "#Add columns for high and low ratings\n",
    "df['high_ratings'] = df['vote_average'] > 5\n",
    "df.head()"
   ]
  },
  {
   "cell_type": "code",
   "execution_count": 31,
   "id": "fce9842f",
   "metadata": {},
   "outputs": [
    {
     "name": "stdout",
     "output_type": "stream",
     "text": [
      "There are 1434 movies with average votes over 5.\n",
      "There are 644 movies with average votes under 5.\n"
     ]
    }
   ],
   "source": [
    "#Separate into two groups\n",
    "high = df.loc[df['high_ratings'] == True, ['revenue', 'high_ratings']]\n",
    "low = df.loc[df['high_ratings'] == False, ['revenue', 'high_ratings']]\n",
    "print(f'There are {len(high)} movies with average votes over 5.')\n",
    "print(f'There are {len(low)} movies with average votes under 5.')"
   ]
  },
  {
   "cell_type": "code",
   "execution_count": 32,
   "id": "742e5540",
   "metadata": {},
   "outputs": [
    {
     "data": {
      "text/plain": [
       "1            0.0\n",
       "3            0.0\n",
       "6    592461732.0\n",
       "8       967000.0\n",
       "9            0.0\n",
       "Name: revenue, dtype: float64"
      ]
     },
     "metadata": {},
     "output_type": "display_data"
    },
    {
     "data": {
      "text/plain": [
       "10           0.0\n",
       "17           0.0\n",
       "25           0.0\n",
       "27           0.0\n",
       "36    36236710.0\n",
       "Name: revenue, dtype: float64"
      ]
     },
     "metadata": {},
     "output_type": "display_data"
    }
   ],
   "source": [
    "#Create final groups\n",
    "highrating = high['revenue']\n",
    "lowrating = low['revenue']\n",
    "display(highrating.head(), lowrating.head())"
   ]
  },
  {
   "cell_type": "markdown",
   "id": "6b95f63a",
   "metadata": {},
   "source": [
    "### Test assumptions"
   ]
  },
  {
   "cell_type": "code",
   "execution_count": 33,
   "id": "768a161e",
   "metadata": {},
   "outputs": [
    {
     "data": {
      "text/plain": [
       "35"
      ]
     },
     "execution_count": 33,
     "metadata": {},
     "output_type": "execute_result"
    }
   ],
   "source": [
    "#Check for outliers in highrating\n",
    "zscores_high = stats.zscore(highrating)\n",
    "outliers_high = abs(zscores_high)>3\n",
    "np.sum(outliers_high)"
   ]
  },
  {
   "cell_type": "code",
   "execution_count": 35,
   "id": "ee78bf23",
   "metadata": {},
   "outputs": [],
   "source": [
    "#Remove outliers\n",
    "highrating = highrating[(np.abs(stats.zscore(highrating)) < 3)]"
   ]
  },
  {
   "cell_type": "code",
   "execution_count": 36,
   "id": "36c39302",
   "metadata": {},
   "outputs": [
    {
     "data": {
      "text/plain": [
       "3"
      ]
     },
     "execution_count": 36,
     "metadata": {},
     "output_type": "execute_result"
    }
   ],
   "source": [
    "#Check for outliers in lowrating\n",
    "zscores_low = stats.zscore(lowrating)\n",
    "outliers_low = abs(zscores_low)>3\n",
    "np.sum(outliers_low)"
   ]
  },
  {
   "cell_type": "code",
   "execution_count": 38,
   "id": "ec6ab542",
   "metadata": {},
   "outputs": [],
   "source": [
    "#Remove outliers\n",
    "lowrating = lowrating[(np.abs(stats.zscore(lowrating)) < 3)]"
   ]
  },
  {
   "cell_type": "markdown",
   "id": "a505f516",
   "metadata": {},
   "source": [
    "### Test for normality"
   ]
  },
  {
   "cell_type": "code",
   "execution_count": 39,
   "id": "bc3a9fce",
   "metadata": {},
   "outputs": [
    {
     "data": {
      "text/plain": [
       "NormaltestResult(statistic=974.7432741209803, pvalue=2.173638853702671e-212)"
      ]
     },
     "execution_count": 39,
     "metadata": {},
     "output_type": "execute_result"
    }
   ],
   "source": [
    "# highrating\n",
    "highgroup = stats.normaltest(highrating)\n",
    "highgroup"
   ]
  },
  {
   "cell_type": "code",
   "execution_count": 40,
   "id": "e2ce984a",
   "metadata": {},
   "outputs": [
    {
     "data": {
      "text/plain": [
       "NormaltestResult(statistic=1054.1476080292555, pvalue=1.243813770585321e-229)"
      ]
     },
     "execution_count": 40,
     "metadata": {},
     "output_type": "execute_result"
    }
   ],
   "source": [
    "# lowrating\n",
    "lowgroup = stats.normaltest(lowrating)\n",
    "lowgroup"
   ]
  },
  {
   "cell_type": "markdown",
   "id": "180653f1",
   "metadata": {},
   "source": [
    "**Note:** We can continue to testing because the groups have more than 15 each. "
   ]
  },
  {
   "cell_type": "markdown",
   "id": "cbe8c379",
   "metadata": {},
   "source": [
    "### Test for equal variance"
   ]
  },
  {
   "cell_type": "code",
   "execution_count": 41,
   "id": "219de261",
   "metadata": {},
   "outputs": [
    {
     "data": {
      "text/plain": [
       "LeveneResult(statistic=104.18387022662415, pvalue=6.87714185707631e-24)"
      ]
     },
     "execution_count": 41,
     "metadata": {},
     "output_type": "execute_result"
    }
   ],
   "source": [
    "result1 = stats.levene(highrating, lowrating)\n",
    "result1"
   ]
  },
  {
   "cell_type": "markdown",
   "id": "92e9e701",
   "metadata": {},
   "source": [
    "**Note:** Failed equal variance test, so we'll run Welch's T-test with equal_var = False"
   ]
  },
  {
   "cell_type": "markdown",
   "id": "e9b7cdd8",
   "metadata": {},
   "source": [
    "### Run Testing"
   ]
  },
  {
   "cell_type": "code",
   "execution_count": 43,
   "id": "c504015b",
   "metadata": {},
   "outputs": [
    {
     "data": {
      "text/plain": [
       "Ttest_indResult(statistic=15.152001476709607, pvalue=3.917010496149182e-48)"
      ]
     },
     "execution_count": 43,
     "metadata": {},
     "output_type": "execute_result"
    }
   ],
   "source": [
    "#Independent t-test with equal_var set to False\n",
    "result = stats.ttest_ind(highrating, lowrating, equal_var = False)\n",
    "result"
   ]
  },
  {
   "cell_type": "markdown",
   "id": "32c28da6",
   "metadata": {},
   "source": [
    "### Conclusions\n",
    "\n",
    "The p-value is less than 0.05. We can ***reject*** the null hypothesis. \n",
    "\n",
    "There is a significant difference in revenue generated by movies with higher ratings."
   ]
  },
  {
   "cell_type": "markdown",
   "id": "344f0a82",
   "metadata": {},
   "source": [
    "### Visualization"
   ]
  },
  {
   "cell_type": "code",
   "execution_count": 45,
   "id": "2f4daec3",
   "metadata": {},
   "outputs": [
    {
     "data": {
      "image/png": "[encoded data removed]",
      "text/plain": [
       "<Figure size 640x480 with 1 Axes>"
      ]
     },
     "metadata": {},
     "output_type": "display_data"
    }
   ],
   "source": [
    "#Create barplot \n",
    "ax = sns.barplot(data = df, x= 'high_ratings', y= 'revenue', errwidth=0)\n",
    "ax.set_title('Average Revenue for high rated movies');"
   ]
  }
 ],
 "metadata": {
  "kernelspec": {
   "display_name": "Python (dojo-env)",
   "language": "python",
   "name": "dojo-env"
  },
  "language_info": {
   "codemirror_mode": {
    "name": "ipython",
    "version": 3
   },
   "file_extension": ".py",
   "mimetype": "text/x-python",
   "name": "python",
   "nbconvert_exporter": "python",
   "pygments_lexer": "ipython3",
   "version": "3.9.15"
  },
  "toc": {
   "base_numbering": 1,
   "nav_menu": {},
   "number_sections": false,
   "sideBar": true,
   "skip_h1_title": false,
   "title_cell": "Table of Contents",
   "title_sidebar": "Contents",
   "toc_cell": false,
   "toc_position": {},
   "toc_section_display": true,
   "toc_window_display": true
  }
 },
 "nbformat": 4,
 "nbformat_minor": 5
}
