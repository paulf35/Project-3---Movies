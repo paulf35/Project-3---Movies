{
 "cells": [
  {
   "cell_type": "code",
   "execution_count": 31,
   "id": "4e5481b9",
   "metadata": {},
   "outputs": [],
   "source": [
    "# imports\n",
    "import pandas as pd\n",
    "import numpy as np\n",
    "import seaborn as sns\n",
    "import matplotlib.pyplot as plt"
   ]
  },
  {
   "cell_type": "code",
   "execution_count": null,
   "id": "93142dec",
   "metadata": {},
   "outputs": [],
   "source": [
    "# Load data\n",
    "basics = pd.read_csv('https://datasets.imdbws.com/title.basics.tsv.gz', sep='\\t', low_memory=False)\n",
    "akas = pd.read_csv('data\\title-akas-us-only.csv', sep='\\t', low_memory=False)\n",
    "ratings = pd.read_csv('https://datasets.imdbws.com/title.ratings.tsv.gz', sep='\\t', low_memory=False)"
   ]
  },
  {
   "cell_type": "markdown",
   "id": "3f03d8f1",
   "metadata": {},
   "source": [
    "# Explore Data"
   ]
  },
  {
   "cell_type": "code",
   "execution_count": 40,
   "id": "694a45ba",
   "metadata": {
    "scrolled": true
   },
   "outputs": [
    {
     "ename": "AttributeError",
     "evalue": "'NoneType' object has no attribute 'head'",
     "output_type": "error",
     "traceback": [
      "\u001b[1;31m---------------------------------------------------------------------------\u001b[0m",
      "\u001b[1;31mAttributeError\u001b[0m                            Traceback (most recent call last)",
      "\u001b[1;32mc:\\Users\\pafoy_gz6qkdd\\Documents\\Project3-Movies\\Project-3---Movies\\Project 3 - Part 1.ipynb Cell 4\u001b[0m in \u001b[0;36m1\n\u001b[1;32m----> <a href='vscode-notebook-cell:/c%3A/Users/pafoy_gz6qkdd/Documents/Project3-Movies/Project-3---Movies/Project%203%20-%20Part%201.ipynb#W3sZmlsZQ%3D%3D?line=0'>1</a>\u001b[0m basics\u001b[39m.\u001b[39;49mhead()\n",
      "\u001b[1;31mAttributeError\u001b[0m: 'NoneType' object has no attribute 'head'"
     ]
    }
   ],
   "source": [
    "basics.head()"
   ]
  },
  {
   "cell_type": "code",
   "execution_count": 35,
   "id": "cd28d85b",
   "metadata": {},
   "outputs": [
    {
     "data": {
      "text/html": [
       "<div>\n",
       "<style scoped>\n",
       "    .dataframe tbody tr th:only-of-type {\n",
       "        vertical-align: middle;\n",
       "    }\n",
       "\n",
       "    .dataframe tbody tr th {\n",
       "        vertical-align: top;\n",
       "    }\n",
       "\n",
       "    .dataframe thead th {\n",
       "        text-align: right;\n",
       "    }\n",
       "</style>\n",
       "<table border=\"1\" class=\"dataframe\">\n",
       "  <thead>\n",
       "    <tr style=\"text-align: right;\">\n",
       "      <th></th>\n",
       "      <th>titleId</th>\n",
       "      <th>ordering</th>\n",
       "      <th>title</th>\n",
       "      <th>region</th>\n",
       "      <th>language</th>\n",
       "      <th>types</th>\n",
       "      <th>attributes</th>\n",
       "      <th>isOriginalTitle</th>\n",
       "    </tr>\n",
       "  </thead>\n",
       "  <tbody>\n",
       "    <tr>\n",
       "      <th>5</th>\n",
       "      <td>tt0000001</td>\n",
       "      <td>6</td>\n",
       "      <td>Carmencita</td>\n",
       "      <td>US</td>\n",
       "      <td>NaN</td>\n",
       "      <td>imdbDisplay</td>\n",
       "      <td>NaN</td>\n",
       "      <td>0</td>\n",
       "    </tr>\n",
       "    <tr>\n",
       "      <th>14</th>\n",
       "      <td>tt0000002</td>\n",
       "      <td>7</td>\n",
       "      <td>The Clown and His Dogs</td>\n",
       "      <td>US</td>\n",
       "      <td>NaN</td>\n",
       "      <td>NaN</td>\n",
       "      <td>literal English title</td>\n",
       "      <td>0</td>\n",
       "    </tr>\n",
       "    <tr>\n",
       "      <th>33</th>\n",
       "      <td>tt0000005</td>\n",
       "      <td>10</td>\n",
       "      <td>Blacksmith Scene</td>\n",
       "      <td>US</td>\n",
       "      <td>NaN</td>\n",
       "      <td>imdbDisplay</td>\n",
       "      <td>NaN</td>\n",
       "      <td>0</td>\n",
       "    </tr>\n",
       "    <tr>\n",
       "      <th>36</th>\n",
       "      <td>tt0000005</td>\n",
       "      <td>1</td>\n",
       "      <td>Blacksmithing Scene</td>\n",
       "      <td>US</td>\n",
       "      <td>NaN</td>\n",
       "      <td>alternative</td>\n",
       "      <td>NaN</td>\n",
       "      <td>0</td>\n",
       "    </tr>\n",
       "    <tr>\n",
       "      <th>41</th>\n",
       "      <td>tt0000005</td>\n",
       "      <td>6</td>\n",
       "      <td>Blacksmith Scene #1</td>\n",
       "      <td>US</td>\n",
       "      <td>NaN</td>\n",
       "      <td>alternative</td>\n",
       "      <td>NaN</td>\n",
       "      <td>0</td>\n",
       "    </tr>\n",
       "  </tbody>\n",
       "</table>\n",
       "</div>"
      ],
      "text/plain": [
       "      titleId  ordering                   title region language        types  \\\n",
       "5   tt0000001         6              Carmencita     US      NaN  imdbDisplay   \n",
       "14  tt0000002         7  The Clown and His Dogs     US      NaN          NaN   \n",
       "33  tt0000005        10        Blacksmith Scene     US      NaN  imdbDisplay   \n",
       "36  tt0000005         1     Blacksmithing Scene     US      NaN  alternative   \n",
       "41  tt0000005         6     Blacksmith Scene #1     US      NaN  alternative   \n",
       "\n",
       "               attributes isOriginalTitle  \n",
       "5                     NaN               0  \n",
       "14  literal English title               0  \n",
       "33                    NaN               0  \n",
       "36                    NaN               0  \n",
       "41                    NaN               0  "
      ]
     },
     "execution_count": 35,
     "metadata": {},
     "output_type": "execute_result"
    }
   ],
   "source": [
    "akas.head()"
   ]
  },
  {
   "cell_type": "code",
   "execution_count": null,
   "id": "301100f7",
   "metadata": {},
   "outputs": [],
   "source": [
    "akas['region'].value_counts()"
   ]
  },
  {
   "cell_type": "code",
   "execution_count": null,
   "id": "687eb9d0",
   "metadata": {},
   "outputs": [],
   "source": [
    "ratings.head()"
   ]
  },
  {
   "cell_type": "markdown",
   "id": "3804b38b",
   "metadata": {},
   "source": [
    "# Data Cleanup"
   ]
  },
  {
   "cell_type": "markdown",
   "id": "7011fd02",
   "metadata": {},
   "source": [
    "## Cleanup AKAs Data Set\n",
    "\n",
    "- Keep only US movies\n",
    "- Replace \"\\N\" with np.nan"
   ]
  },
  {
   "cell_type": "code",
   "execution_count": 38,
   "id": "5849f110",
   "metadata": {},
   "outputs": [
    {
     "data": {
      "text/html": [
       "<div>\n",
       "<style scoped>\n",
       "    .dataframe tbody tr th:only-of-type {\n",
       "        vertical-align: middle;\n",
       "    }\n",
       "\n",
       "    .dataframe tbody tr th {\n",
       "        vertical-align: top;\n",
       "    }\n",
       "\n",
       "    .dataframe thead th {\n",
       "        text-align: right;\n",
       "    }\n",
       "</style>\n",
       "<table border=\"1\" class=\"dataframe\">\n",
       "  <thead>\n",
       "    <tr style=\"text-align: right;\">\n",
       "      <th></th>\n",
       "      <th>titleId</th>\n",
       "      <th>ordering</th>\n",
       "      <th>title</th>\n",
       "      <th>region</th>\n",
       "      <th>language</th>\n",
       "      <th>types</th>\n",
       "      <th>attributes</th>\n",
       "      <th>isOriginalTitle</th>\n",
       "    </tr>\n",
       "  </thead>\n",
       "  <tbody>\n",
       "    <tr>\n",
       "      <th>5</th>\n",
       "      <td>tt0000001</td>\n",
       "      <td>6</td>\n",
       "      <td>Carmencita</td>\n",
       "      <td>US</td>\n",
       "      <td>NaN</td>\n",
       "      <td>imdbDisplay</td>\n",
       "      <td>NaN</td>\n",
       "      <td>0</td>\n",
       "    </tr>\n",
       "    <tr>\n",
       "      <th>14</th>\n",
       "      <td>tt0000002</td>\n",
       "      <td>7</td>\n",
       "      <td>The Clown and His Dogs</td>\n",
       "      <td>US</td>\n",
       "      <td>NaN</td>\n",
       "      <td>NaN</td>\n",
       "      <td>literal English title</td>\n",
       "      <td>0</td>\n",
       "    </tr>\n",
       "    <tr>\n",
       "      <th>33</th>\n",
       "      <td>tt0000005</td>\n",
       "      <td>10</td>\n",
       "      <td>Blacksmith Scene</td>\n",
       "      <td>US</td>\n",
       "      <td>NaN</td>\n",
       "      <td>imdbDisplay</td>\n",
       "      <td>NaN</td>\n",
       "      <td>0</td>\n",
       "    </tr>\n",
       "    <tr>\n",
       "      <th>36</th>\n",
       "      <td>tt0000005</td>\n",
       "      <td>1</td>\n",
       "      <td>Blacksmithing Scene</td>\n",
       "      <td>US</td>\n",
       "      <td>NaN</td>\n",
       "      <td>alternative</td>\n",
       "      <td>NaN</td>\n",
       "      <td>0</td>\n",
       "    </tr>\n",
       "    <tr>\n",
       "      <th>41</th>\n",
       "      <td>tt0000005</td>\n",
       "      <td>6</td>\n",
       "      <td>Blacksmith Scene #1</td>\n",
       "      <td>US</td>\n",
       "      <td>NaN</td>\n",
       "      <td>alternative</td>\n",
       "      <td>NaN</td>\n",
       "      <td>0</td>\n",
       "    </tr>\n",
       "    <tr>\n",
       "      <th>...</th>\n",
       "      <td>...</td>\n",
       "      <td>...</td>\n",
       "      <td>...</td>\n",
       "      <td>...</td>\n",
       "      <td>...</td>\n",
       "      <td>...</td>\n",
       "      <td>...</td>\n",
       "      <td>...</td>\n",
       "    </tr>\n",
       "    <tr>\n",
       "      <th>36939955</th>\n",
       "      <td>tt9916560</td>\n",
       "      <td>1</td>\n",
       "      <td>March of Dimes Presents: Once Upon a Dime</td>\n",
       "      <td>US</td>\n",
       "      <td>NaN</td>\n",
       "      <td>imdbDisplay</td>\n",
       "      <td>NaN</td>\n",
       "      <td>0</td>\n",
       "    </tr>\n",
       "    <tr>\n",
       "      <th>36940025</th>\n",
       "      <td>tt9916620</td>\n",
       "      <td>1</td>\n",
       "      <td>The Copeland Case</td>\n",
       "      <td>US</td>\n",
       "      <td>NaN</td>\n",
       "      <td>imdbDisplay</td>\n",
       "      <td>NaN</td>\n",
       "      <td>0</td>\n",
       "    </tr>\n",
       "    <tr>\n",
       "      <th>36940114</th>\n",
       "      <td>tt9916702</td>\n",
       "      <td>1</td>\n",
       "      <td>Loving London: The Playground</td>\n",
       "      <td>US</td>\n",
       "      <td>NaN</td>\n",
       "      <td>NaN</td>\n",
       "      <td>NaN</td>\n",
       "      <td>0</td>\n",
       "    </tr>\n",
       "    <tr>\n",
       "      <th>36940157</th>\n",
       "      <td>tt9916756</td>\n",
       "      <td>1</td>\n",
       "      <td>Pretty Pretty Black Girl</td>\n",
       "      <td>US</td>\n",
       "      <td>NaN</td>\n",
       "      <td>imdbDisplay</td>\n",
       "      <td>NaN</td>\n",
       "      <td>0</td>\n",
       "    </tr>\n",
       "    <tr>\n",
       "      <th>36940173</th>\n",
       "      <td>tt9916764</td>\n",
       "      <td>1</td>\n",
       "      <td>38</td>\n",
       "      <td>US</td>\n",
       "      <td>NaN</td>\n",
       "      <td>imdbDisplay</td>\n",
       "      <td>NaN</td>\n",
       "      <td>0</td>\n",
       "    </tr>\n",
       "  </tbody>\n",
       "</table>\n",
       "<p>1461196 rows × 8 columns</p>\n",
       "</div>"
      ],
      "text/plain": [
       "            titleId  ordering                                      title  \\\n",
       "5         tt0000001         6                                 Carmencita   \n",
       "14        tt0000002         7                     The Clown and His Dogs   \n",
       "33        tt0000005        10                           Blacksmith Scene   \n",
       "36        tt0000005         1                        Blacksmithing Scene   \n",
       "41        tt0000005         6                        Blacksmith Scene #1   \n",
       "...             ...       ...                                        ...   \n",
       "36939955  tt9916560         1  March of Dimes Presents: Once Upon a Dime   \n",
       "36940025  tt9916620         1                          The Copeland Case   \n",
       "36940114  tt9916702         1              Loving London: The Playground   \n",
       "36940157  tt9916756         1                   Pretty Pretty Black Girl   \n",
       "36940173  tt9916764         1                                         38   \n",
       "\n",
       "         region language        types             attributes isOriginalTitle  \n",
       "5            US      NaN  imdbDisplay                    NaN               0  \n",
       "14           US      NaN          NaN  literal English title               0  \n",
       "33           US      NaN  imdbDisplay                    NaN               0  \n",
       "36           US      NaN  alternative                    NaN               0  \n",
       "41           US      NaN  alternative                    NaN               0  \n",
       "...         ...      ...          ...                    ...             ...  \n",
       "36939955     US      NaN  imdbDisplay                    NaN               0  \n",
       "36940025     US      NaN  imdbDisplay                    NaN               0  \n",
       "36940114     US      NaN          NaN                    NaN               0  \n",
       "36940157     US      NaN  imdbDisplay                    NaN               0  \n",
       "36940173     US      NaN  imdbDisplay                    NaN               0  \n",
       "\n",
       "[1461196 rows x 8 columns]"
      ]
     },
     "execution_count": 38,
     "metadata": {},
     "output_type": "execute_result"
    }
   ],
   "source": [
    "#Replace \"\\N\" with np.nan\n",
    "akas.replace({'\\\\N':np.nan}, inplace=True)\n",
    "akas\n"
   ]
  },
  {
   "cell_type": "markdown",
   "id": "5bd8fb5b",
   "metadata": {},
   "source": [
    "## Cleanup Title Basics Dataset\n",
    "- Keep only US movies (Use AKAs table, see \"Filtering one dataframe based on another\" section below)\n",
    "- Replace \"\\N\" with np.nan\n",
    "- Eliminate movies that are null for runtimeMinutes\n",
    "- Eliminate movies that are null for genre\n",
    "- keep only titleType==Movie\n",
    "- Convert the startYear column to float data type.\n",
    "- Filter the dataframe using startYear. Keep years between 2000-2021 (Including 2000 and 2021)\n",
    "- Eliminate movies that include \"Documentary\" in the genre (see tip below)."
   ]
  },
  {
   "cell_type": "code",
<<<<<<< HEAD
<<<<<<< HEAD
   "execution_count": 8,
   "id": "19184a0f",
   "metadata": {},
   "outputs": [
    {
     "data": {
      "text/html": [
       "<div>\n",
       "<style scoped>\n",
       "    .dataframe tbody tr th:only-of-type {\n",
       "        vertical-align: middle;\n",
       "    }\n",
       "\n",
       "    .dataframe tbody tr th {\n",
       "        vertical-align: top;\n",
       "    }\n",
       "\n",
       "    .dataframe thead th {\n",
       "        text-align: right;\n",
       "    }\n",
       "</style>\n",
       "<table border=\"1\" class=\"dataframe\">\n",
       "  <thead>\n",
       "    <tr style=\"text-align: right;\">\n",
       "      <th></th>\n",
       "      <th>tconst</th>\n",
       "      <th>titleType</th>\n",
       "      <th>primaryTitle</th>\n",
       "      <th>originalTitle</th>\n",
       "      <th>isAdult</th>\n",
       "      <th>startYear</th>\n",
       "      <th>endYear</th>\n",
       "      <th>runtimeMinutes</th>\n",
       "      <th>genres</th>\n",
       "    </tr>\n",
       "  </thead>\n",
       "  <tbody>\n",
       "    <tr>\n",
       "      <th>0</th>\n",
       "      <td>tt0000001</td>\n",
       "      <td>short</td>\n",
       "      <td>Carmencita</td>\n",
       "      <td>Carmencita</td>\n",
       "      <td>0</td>\n",
       "      <td>1894</td>\n",
       "      <td>NaN</td>\n",
       "      <td>1</td>\n",
       "      <td>Documentary,Short</td>\n",
       "    </tr>\n",
       "    <tr>\n",
       "      <th>1</th>\n",
       "      <td>tt0000002</td>\n",
       "      <td>short</td>\n",
       "      <td>Le clown et ses chiens</td>\n",
       "      <td>Le clown et ses chiens</td>\n",
       "      <td>0</td>\n",
       "      <td>1892</td>\n",
       "      <td>NaN</td>\n",
       "      <td>5</td>\n",
       "      <td>Animation,Short</td>\n",
       "    </tr>\n",
       "    <tr>\n",
       "      <th>2</th>\n",
       "      <td>tt0000003</td>\n",
       "      <td>short</td>\n",
       "      <td>Pauvre Pierrot</td>\n",
       "      <td>Pauvre Pierrot</td>\n",
       "      <td>0</td>\n",
       "      <td>1892</td>\n",
       "      <td>NaN</td>\n",
       "      <td>4</td>\n",
       "      <td>Animation,Comedy,Romance</td>\n",
       "    </tr>\n",
       "    <tr>\n",
       "      <th>3</th>\n",
       "      <td>tt0000004</td>\n",
       "      <td>short</td>\n",
       "      <td>Un bon bock</td>\n",
       "      <td>Un bon bock</td>\n",
       "      <td>0</td>\n",
       "      <td>1892</td>\n",
       "      <td>NaN</td>\n",
       "      <td>12</td>\n",
       "      <td>Animation,Short</td>\n",
       "    </tr>\n",
       "    <tr>\n",
       "      <th>4</th>\n",
       "      <td>tt0000005</td>\n",
       "      <td>short</td>\n",
       "      <td>Blacksmith Scene</td>\n",
       "      <td>Blacksmith Scene</td>\n",
       "      <td>0</td>\n",
       "      <td>1893</td>\n",
       "      <td>NaN</td>\n",
       "      <td>1</td>\n",
       "      <td>Comedy,Short</td>\n",
       "    </tr>\n",
       "    <tr>\n",
       "      <th>...</th>\n",
       "      <td>...</td>\n",
       "      <td>...</td>\n",
       "      <td>...</td>\n",
       "      <td>...</td>\n",
       "      <td>...</td>\n",
       "      <td>...</td>\n",
       "      <td>...</td>\n",
       "      <td>...</td>\n",
       "      <td>...</td>\n",
       "    </tr>\n",
       "    <tr>\n",
       "      <th>10098827</th>\n",
       "      <td>tt9916848</td>\n",
       "      <td>tvEpisode</td>\n",
       "      <td>Episode #3.17</td>\n",
       "      <td>Episode #3.17</td>\n",
       "      <td>0</td>\n",
       "      <td>2009</td>\n",
       "      <td>NaN</td>\n",
       "      <td>NaN</td>\n",
       "      <td>Action,Drama,Family</td>\n",
       "    </tr>\n",
       "    <tr>\n",
       "      <th>10098828</th>\n",
       "      <td>tt9916850</td>\n",
       "      <td>tvEpisode</td>\n",
       "      <td>Episode #3.19</td>\n",
       "      <td>Episode #3.19</td>\n",
       "      <td>0</td>\n",
       "      <td>2010</td>\n",
       "      <td>NaN</td>\n",
       "      <td>NaN</td>\n",
       "      <td>Action,Drama,Family</td>\n",
       "    </tr>\n",
       "    <tr>\n",
       "      <th>10098829</th>\n",
       "      <td>tt9916852</td>\n",
       "      <td>tvEpisode</td>\n",
       "      <td>Episode #3.20</td>\n",
       "      <td>Episode #3.20</td>\n",
       "      <td>0</td>\n",
       "      <td>2010</td>\n",
       "      <td>NaN</td>\n",
       "      <td>NaN</td>\n",
       "      <td>Action,Drama,Family</td>\n",
       "    </tr>\n",
       "    <tr>\n",
       "      <th>10098830</th>\n",
       "      <td>tt9916856</td>\n",
       "      <td>short</td>\n",
       "      <td>The Wind</td>\n",
       "      <td>The Wind</td>\n",
       "      <td>0</td>\n",
       "      <td>2015</td>\n",
       "      <td>NaN</td>\n",
       "      <td>27</td>\n",
       "      <td>Short</td>\n",
       "    </tr>\n",
       "    <tr>\n",
       "      <th>10098831</th>\n",
       "      <td>tt9916880</td>\n",
       "      <td>tvEpisode</td>\n",
       "      <td>Horrid Henry Knows It All</td>\n",
       "      <td>Horrid Henry Knows It All</td>\n",
       "      <td>0</td>\n",
       "      <td>2014</td>\n",
       "      <td>NaN</td>\n",
       "      <td>10</td>\n",
       "      <td>Adventure,Animation,Comedy</td>\n",
       "    </tr>\n",
       "  </tbody>\n",
       "</table>\n",
       "<p>10098832 rows × 9 columns</p>\n",
       "</div>"
      ],
      "text/plain": [
       "             tconst  titleType               primaryTitle  \\\n",
       "0         tt0000001      short                 Carmencita   \n",
       "1         tt0000002      short     Le clown et ses chiens   \n",
       "2         tt0000003      short             Pauvre Pierrot   \n",
       "3         tt0000004      short                Un bon bock   \n",
       "4         tt0000005      short           Blacksmith Scene   \n",
       "...             ...        ...                        ...   \n",
       "10098827  tt9916848  tvEpisode              Episode #3.17   \n",
       "10098828  tt9916850  tvEpisode              Episode #3.19   \n",
       "10098829  tt9916852  tvEpisode              Episode #3.20   \n",
       "10098830  tt9916856      short                   The Wind   \n",
       "10098831  tt9916880  tvEpisode  Horrid Henry Knows It All   \n",
       "\n",
       "                      originalTitle isAdult startYear endYear runtimeMinutes  \\\n",
       "0                        Carmencita       0      1894     NaN              1   \n",
       "1            Le clown et ses chiens       0      1892     NaN              5   \n",
       "2                    Pauvre Pierrot       0      1892     NaN              4   \n",
       "3                       Un bon bock       0      1892     NaN             12   \n",
       "4                  Blacksmith Scene       0      1893     NaN              1   \n",
       "...                             ...     ...       ...     ...            ...   \n",
       "10098827              Episode #3.17       0      2009     NaN            NaN   \n",
       "10098828              Episode #3.19       0      2010     NaN            NaN   \n",
       "10098829              Episode #3.20       0      2010     NaN            NaN   \n",
       "10098830                   The Wind       0      2015     NaN             27   \n",
       "10098831  Horrid Henry Knows It All       0      2014     NaN             10   \n",
       "\n",
       "                              genres  \n",
       "0                  Documentary,Short  \n",
       "1                    Animation,Short  \n",
       "2           Animation,Comedy,Romance  \n",
       "3                    Animation,Short  \n",
       "4                       Comedy,Short  \n",
       "...                              ...  \n",
       "10098827         Action,Drama,Family  \n",
       "10098828         Action,Drama,Family  \n",
       "10098829         Action,Drama,Family  \n",
       "10098830                       Short  \n",
       "10098831  Adventure,Animation,Comedy  \n",
       "\n",
       "[10098832 rows x 9 columns]"
      ]
     },
     "execution_count": 8,
     "metadata": {},
     "output_type": "execute_result"
    }
   ],
=======
   "execution_count": 37,
   "id": "726953ef",
   "metadata": {},
   "outputs": [
    {
     "ename": "TypeError",
     "evalue": "'NoneType' object is not subscriptable",
     "output_type": "error",
     "traceback": [
      "\u001b[1;31m---------------------------------------------------------------------------\u001b[0m",
      "\u001b[1;31mTypeError\u001b[0m                                 Traceback (most recent call last)",
      "\u001b[1;32mc:\\Users\\pafoy_gz6qkdd\\Documents\\Project3-Movies\\Project-3---Movies\\Project 3 - Part 1.ipynb Cell 12\u001b[0m in \u001b[0;36m3\n\u001b[0;32m      <a href='vscode-notebook-cell:/c%3A/Users/pafoy_gz6qkdd/Documents/Project3-Movies/Project-3---Movies/Project%203%20-%20Part%201.ipynb#X14sZmlsZQ%3D%3D?line=0'>1</a>\u001b[0m \u001b[39m# Keep only US movies\u001b[39;00m\n\u001b[0;32m      <a href='vscode-notebook-cell:/c%3A/Users/pafoy_gz6qkdd/Documents/Project3-Movies/Project-3---Movies/Project%203%20-%20Part%201.ipynb#X14sZmlsZQ%3D%3D?line=1'>2</a>\u001b[0m \u001b[39m# Filter the basics table down to only include the US by using the filter akas dataframe\u001b[39;00m\n\u001b[1;32m----> <a href='vscode-notebook-cell:/c%3A/Users/pafoy_gz6qkdd/Documents/Project3-Movies/Project-3---Movies/Project%203%20-%20Part%201.ipynb#X14sZmlsZQ%3D%3D?line=2'>3</a>\u001b[0m keepers \u001b[39m=\u001b[39m basics[\u001b[39m'\u001b[39;49m\u001b[39mtconst\u001b[39;49m\u001b[39m'\u001b[39;49m]\u001b[39m.\u001b[39misin(akas[\u001b[39m'\u001b[39m\u001b[39mtitleId\u001b[39m\u001b[39m'\u001b[39m])\n\u001b[0;32m      <a href='vscode-notebook-cell:/c%3A/Users/pafoy_gz6qkdd/Documents/Project3-Movies/Project-3---Movies/Project%203%20-%20Part%201.ipynb#X14sZmlsZQ%3D%3D?line=3'>4</a>\u001b[0m keepers\n\u001b[0;32m      <a href='vscode-notebook-cell:/c%3A/Users/pafoy_gz6qkdd/Documents/Project3-Movies/Project-3---Movies/Project%203%20-%20Part%201.ipynb#X14sZmlsZQ%3D%3D?line=4'>5</a>\u001b[0m basics \u001b[39m=\u001b[39m basics[keepers]\n",
      "\u001b[1;31mTypeError\u001b[0m: 'NoneType' object is not subscriptable"
     ]
    }
   ],
   "source": [
    "# Keep only US movies\n",
    "# Filter the basics table down to only include the US by using the filter akas dataframe\n",
    "keepers = basics['tconst'].isin(akas['titleId'])\n",
    "keepers\n",
    "basics = basics[keepers]\n",
    "basics"
   ]
  },
  {
   "cell_type": "code",
   "execution_count": null,
   "id": "19184a0f",
   "metadata": {},
   "outputs": [],
>>>>>>> parent of bd43bf2 (Updated)
=======
   "execution_count": 37,
   "id": "726953ef",
   "metadata": {},
   "outputs": [
    {
     "ename": "TypeError",
     "evalue": "'NoneType' object is not subscriptable",
     "output_type": "error",
     "traceback": [
      "\u001b[1;31m---------------------------------------------------------------------------\u001b[0m",
      "\u001b[1;31mTypeError\u001b[0m                                 Traceback (most recent call last)",
      "\u001b[1;32mc:\\Users\\pafoy_gz6qkdd\\Documents\\Project3-Movies\\Project-3---Movies\\Project 3 - Part 1.ipynb Cell 12\u001b[0m in \u001b[0;36m3\n\u001b[0;32m      <a href='vscode-notebook-cell:/c%3A/Users/pafoy_gz6qkdd/Documents/Project3-Movies/Project-3---Movies/Project%203%20-%20Part%201.ipynb#X14sZmlsZQ%3D%3D?line=0'>1</a>\u001b[0m \u001b[39m# Keep only US movies\u001b[39;00m\n\u001b[0;32m      <a href='vscode-notebook-cell:/c%3A/Users/pafoy_gz6qkdd/Documents/Project3-Movies/Project-3---Movies/Project%203%20-%20Part%201.ipynb#X14sZmlsZQ%3D%3D?line=1'>2</a>\u001b[0m \u001b[39m# Filter the basics table down to only include the US by using the filter akas dataframe\u001b[39;00m\n\u001b[1;32m----> <a href='vscode-notebook-cell:/c%3A/Users/pafoy_gz6qkdd/Documents/Project3-Movies/Project-3---Movies/Project%203%20-%20Part%201.ipynb#X14sZmlsZQ%3D%3D?line=2'>3</a>\u001b[0m keepers \u001b[39m=\u001b[39m basics[\u001b[39m'\u001b[39;49m\u001b[39mtconst\u001b[39;49m\u001b[39m'\u001b[39;49m]\u001b[39m.\u001b[39misin(akas[\u001b[39m'\u001b[39m\u001b[39mtitleId\u001b[39m\u001b[39m'\u001b[39m])\n\u001b[0;32m      <a href='vscode-notebook-cell:/c%3A/Users/pafoy_gz6qkdd/Documents/Project3-Movies/Project-3---Movies/Project%203%20-%20Part%201.ipynb#X14sZmlsZQ%3D%3D?line=3'>4</a>\u001b[0m keepers\n\u001b[0;32m      <a href='vscode-notebook-cell:/c%3A/Users/pafoy_gz6qkdd/Documents/Project3-Movies/Project-3---Movies/Project%203%20-%20Part%201.ipynb#X14sZmlsZQ%3D%3D?line=4'>5</a>\u001b[0m basics \u001b[39m=\u001b[39m basics[keepers]\n",
      "\u001b[1;31mTypeError\u001b[0m: 'NoneType' object is not subscriptable"
     ]
    }
   ],
   "source": [
    "# Keep only US movies\n",
    "# Filter the basics table down to only include the US by using the filter akas dataframe\n",
    "keepers = basics['tconst'].isin(akas['titleId'])\n",
    "keepers\n",
    "basics = basics[keepers]\n",
    "basics"
   ]
  },
  {
   "cell_type": "code",
   "execution_count": null,
   "id": "19184a0f",
   "metadata": {},
   "outputs": [],
>>>>>>> parent of bd43bf2 (Updated)
   "source": [
    "#Replace \"\\N\" with np.nan\n",
    "basics.replace({'\\\\N':np.nan}, inplace=True)\n",
    "basics"
   ]
  },
  {
   "cell_type": "code",
<<<<<<< HEAD
<<<<<<< HEAD
   "execution_count": 9,
   "id": "97c19a3e",
   "metadata": {},
   "outputs": [
    {
     "data": {
      "text/plain": [
       "tconst             object\n",
       "titleType          object\n",
       "primaryTitle       object\n",
       "originalTitle      object\n",
       "isAdult            object\n",
       "startYear         float64\n",
       "endYear            object\n",
       "runtimeMinutes     object\n",
       "genres             object\n",
       "dtype: object"
      ]
     },
     "execution_count": 9,
     "metadata": {},
     "output_type": "execute_result"
    }
   ],
   "source": [
    "# Convert the startYear column to float data type.\n",
    "basics.astype({'startYear': float}).dtypes"
   ]
  },
  {
   "cell_type": "code",
   "execution_count": 10,
   "id": "3f994d67",
   "metadata": {},
   "outputs": [],
   "source": [
    "# Eliminate movies that are null for runtimeMinutes and for genres\n",
    "basics = basics.dropna(subset='genres')"
   ]
  },
  {
   "cell_type": "code",
   "execution_count": 11,
   "id": "a448ad20",
   "metadata": {},
   "outputs": [
    {
     "name": "stderr",
     "output_type": "stream",
     "text": [
      "C:\\Users\\pafoy_gz6qkdd\\AppData\\Local\\Temp\\ipykernel_12912\\2350431339.py:2: SettingWithCopyWarning: \n",
      "A value is trying to be set on a copy of a slice from a DataFrame\n",
      "\n",
      "See the caveats in the documentation: https://pandas.pydata.org/pandas-docs/stable/user_guide/indexing.html#returning-a-view-versus-a-copy\n",
      "  basics = basics.drop(basics[basics['titleType'] != 'movie'].index, inplace=True)\n"
     ]
    }
   ],
   "source": [
    "# keep only titleType==Movie\n",
    "basics = basics.drop(basics[basics['titleType'] != 'movie'].index, inplace=True)"
=======
   "execution_count": null,
   "id": "3f994d67",
   "metadata": {},
   "outputs": [],
   "source": [
    "# Eliminate movies that are null for runtimeMinutes and for genres\n",
    "basics = basics.dropna(subset=['runtimeMinutes','genres'], inplace=True)\n"
>>>>>>> parent of bd43bf2 (Updated)
=======
   "execution_count": null,
   "id": "3f994d67",
   "metadata": {},
   "outputs": [],
   "source": [
    "# Eliminate movies that are null for runtimeMinutes and for genres\n",
    "basics = basics.dropna(subset=['runtimeMinutes','genres'], inplace=True)\n"
>>>>>>> parent of bd43bf2 (Updated)
   ]
  },
  {
   "cell_type": "code",
<<<<<<< HEAD
   "execution_count": 12,
   "id": "726953ef",
=======
   "execution_count": null,
   "id": "3613e82e",
<<<<<<< HEAD
>>>>>>> parent of bd43bf2 (Updated)
=======
>>>>>>> parent of bd43bf2 (Updated)
   "metadata": {},
   "outputs": [
    {
     "ename": "TypeError",
     "evalue": "'NoneType' object is not subscriptable",
     "output_type": "error",
     "traceback": [
      "\u001b[1;31m---------------------------------------------------------------------------\u001b[0m",
      "\u001b[1;31mTypeError\u001b[0m                                 Traceback (most recent call last)",
      "Cell \u001b[1;32mIn [12], line 3\u001b[0m\n\u001b[0;32m      1\u001b[0m \u001b[38;5;66;03m# Keep only US movies\u001b[39;00m\n\u001b[0;32m      2\u001b[0m \u001b[38;5;66;03m# Filter the basics table down to only include the US by using the filter akas dataframe\u001b[39;00m\n\u001b[1;32m----> 3\u001b[0m keepers \u001b[38;5;241m=\u001b[39m \u001b[43mbasics\u001b[49m\u001b[43m[\u001b[49m\u001b[38;5;124;43m'\u001b[39;49m\u001b[38;5;124;43mtconst\u001b[39;49m\u001b[38;5;124;43m'\u001b[39;49m\u001b[43m]\u001b[49m\u001b[38;5;241m.\u001b[39misin(akas[\u001b[38;5;124m'\u001b[39m\u001b[38;5;124mtitleId\u001b[39m\u001b[38;5;124m'\u001b[39m])\n\u001b[0;32m      4\u001b[0m keepers\n\u001b[0;32m      5\u001b[0m basics_usonly \u001b[38;5;241m=\u001b[39m basics[keepers]\n",
      "\u001b[1;31mTypeError\u001b[0m: 'NoneType' object is not subscriptable"
     ]
    }
   ],
   "source": [
<<<<<<< HEAD
<<<<<<< HEAD
    "# Keep only US movies\n",
    "# Filter the basics table down to only include the US by using the filter akas dataframe\n",
    "keepers = basics['tconst'].isin(akas['titleId'])\n",
    "keepers\n",
    "basics_usonly = basics[keepers]\n",
    "basics_usonly"
=======
=======
>>>>>>> parent of bd43bf2 (Updated)
    "# Keep only titleType == Movie\n",
    "# delete all rows with column 'Age' has value 30 to 40\n",
    "basicsNonMovies = basics[ (basics['titleType'] != 'Movie') ].index\n",
    "basics.drop(basicsNonMovies , inplace=True)\n",
    "df.head(15)\n"
<<<<<<< HEAD
>>>>>>> parent of bd43bf2 (Updated)
=======
>>>>>>> parent of bd43bf2 (Updated)
   ]
  }
 ],
 "metadata": {
  "kernelspec": {
   "display_name": "Python 3 (ipykernel)",
   "language": "python",
   "name": "python3"
  },
  "language_info": {
   "codemirror_mode": {
    "name": "ipython",
    "version": 3
   },
   "file_extension": ".py",
   "mimetype": "text/x-python",
   "name": "python",
   "nbconvert_exporter": "python",
   "pygments_lexer": "ipython3",
   "version": "3.9.15"
  },
  "toc": {
   "base_numbering": 1,
   "nav_menu": {},
   "number_sections": false,
   "sideBar": true,
   "skip_h1_title": false,
   "title_cell": "Table of Contents",
   "title_sidebar": "Contents",
   "toc_cell": false,
   "toc_position": {},
   "toc_section_display": true,
   "toc_window_display": false
  }
 },
 "nbformat": 4,
 "nbformat_minor": 5
}
